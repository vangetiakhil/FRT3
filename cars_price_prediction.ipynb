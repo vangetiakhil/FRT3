{
 "cells": [
  {
   "cell_type": "markdown",
   "metadata": {},
   "source": [
    "The data which is used in this project has been collected from cars24 website for 10 popular cities across the country. Only used cars data has been collected."
   ]
  },
  {
   "cell_type": "code",
   "execution_count": 1,
   "metadata": {},
   "outputs": [],
   "source": [
    "import pandas as pd\n",
    "import numpy as np\n",
    "import matplotlib.pyplot as plt\n",
    "import seaborn as sns\n",
    "%matplotlib inline\n",
    "\n",
    "import re"
   ]
  },
  {
   "cell_type": "code",
   "execution_count": 2,
   "metadata": {},
   "outputs": [],
   "source": [
    "df = pd.read_csv(\"cars-data-scrape.csv\",index_col =0)"
   ]
  },
  {
   "cell_type": "code",
   "execution_count": 3,
   "metadata": {},
   "outputs": [
    {
     "data": {
      "text/html": [
       "<div>\n",
       "<style scoped>\n",
       "    .dataframe tbody tr th:only-of-type {\n",
       "        vertical-align: middle;\n",
       "    }\n",
       "\n",
       "    .dataframe tbody tr th {\n",
       "        vertical-align: top;\n",
       "    }\n",
       "\n",
       "    .dataframe thead th {\n",
       "        text-align: right;\n",
       "    }\n",
       "</style>\n",
       "<table border=\"1\" class=\"dataframe\">\n",
       "  <thead>\n",
       "    <tr style=\"text-align: right;\">\n",
       "      <th></th>\n",
       "      <th>Location</th>\n",
       "      <th>Type</th>\n",
       "      <th>Brand</th>\n",
       "      <th>Model</th>\n",
       "      <th>Variant</th>\n",
       "      <th>Year</th>\n",
       "      <th>Kilometers</th>\n",
       "      <th>No_of_owners</th>\n",
       "      <th>Fuel</th>\n",
       "      <th>Transmission</th>\n",
       "      <th>Price</th>\n",
       "    </tr>\n",
       "  </thead>\n",
       "  <tbody>\n",
       "    <tr>\n",
       "      <th>0</th>\n",
       "      <td>New Delhi</td>\n",
       "      <td>Hatchback</td>\n",
       "      <td>Maruti</td>\n",
       "      <td>Swift MANUAL</td>\n",
       "      <td>LXI</td>\n",
       "      <td>2020</td>\n",
       "      <td>3570</td>\n",
       "      <td>1</td>\n",
       "      <td>Petrol</td>\n",
       "      <td>MANUAL</td>\n",
       "      <td>580799</td>\n",
       "    </tr>\n",
       "    <tr>\n",
       "      <th>1</th>\n",
       "      <td>New Delhi</td>\n",
       "      <td>Hatchback</td>\n",
       "      <td>Maruti</td>\n",
       "      <td>Swift MANUAL</td>\n",
       "      <td>LXI</td>\n",
       "      <td>2020</td>\n",
       "      <td>1755</td>\n",
       "      <td>1</td>\n",
       "      <td>Petrol</td>\n",
       "      <td>MANUAL</td>\n",
       "      <td>571399</td>\n",
       "    </tr>\n",
       "    <tr>\n",
       "      <th>2</th>\n",
       "      <td>New Delhi</td>\n",
       "      <td>Hatchback</td>\n",
       "      <td>Maruti</td>\n",
       "      <td>S PRESSO MANUAL</td>\n",
       "      <td>VXI PLUS</td>\n",
       "      <td>2020</td>\n",
       "      <td>17058</td>\n",
       "      <td>1</td>\n",
       "      <td>Petrol</td>\n",
       "      <td>MANUAL</td>\n",
       "      <td>437299</td>\n",
       "    </tr>\n",
       "    <tr>\n",
       "      <th>3</th>\n",
       "      <td>New Delhi</td>\n",
       "      <td>Hatchback</td>\n",
       "      <td>Maruti</td>\n",
       "      <td>Alto 800 MANUAL</td>\n",
       "      <td>VXI</td>\n",
       "      <td>2014</td>\n",
       "      <td>5383</td>\n",
       "      <td>1</td>\n",
       "      <td>Petrol</td>\n",
       "      <td>MANUAL</td>\n",
       "      <td>291699</td>\n",
       "    </tr>\n",
       "    <tr>\n",
       "      <th>4</th>\n",
       "      <td>New Delhi</td>\n",
       "      <td>Hatchback</td>\n",
       "      <td>Maruti</td>\n",
       "      <td>Alto K10 MANUAL</td>\n",
       "      <td>LXI</td>\n",
       "      <td>2015</td>\n",
       "      <td>10957</td>\n",
       "      <td>1</td>\n",
       "      <td>Petrol</td>\n",
       "      <td>MANUAL</td>\n",
       "      <td>295299</td>\n",
       "    </tr>\n",
       "  </tbody>\n",
       "</table>\n",
       "</div>"
      ],
      "text/plain": [
       "    Location       Type   Brand            Model   Variant  Year  Kilometers  \\\n",
       "0  New Delhi  Hatchback  Maruti     Swift MANUAL       LXI  2020        3570   \n",
       "1  New Delhi  Hatchback  Maruti     Swift MANUAL       LXI  2020        1755   \n",
       "2  New Delhi  Hatchback  Maruti  S PRESSO MANUAL  VXI PLUS  2020       17058   \n",
       "3  New Delhi  Hatchback  Maruti  Alto 800 MANUAL       VXI  2014        5383   \n",
       "4  New Delhi  Hatchback  Maruti  Alto K10 MANUAL       LXI  2015       10957   \n",
       "\n",
       "   No_of_owners    Fuel Transmission   Price  \n",
       "0             1  Petrol       MANUAL  580799  \n",
       "1             1  Petrol       MANUAL  571399  \n",
       "2             1  Petrol       MANUAL  437299  \n",
       "3             1  Petrol       MANUAL  291699  \n",
       "4             1  Petrol       MANUAL  295299  "
      ]
     },
     "execution_count": 3,
     "metadata": {},
     "output_type": "execute_result"
    }
   ],
   "source": [
    "df.head()"
   ]
  },
  {
   "cell_type": "code",
   "execution_count": 4,
   "metadata": {},
   "outputs": [
    {
     "name": "stdout",
     "output_type": "stream",
     "text": [
      "<class 'pandas.core.frame.DataFrame'>\n",
      "Int64Index: 5045 entries, 0 to 5044\n",
      "Data columns (total 11 columns):\n",
      " #   Column        Non-Null Count  Dtype \n",
      "---  ------        --------------  ----- \n",
      " 0   Location      5045 non-null   object\n",
      " 1   Type          5045 non-null   object\n",
      " 2   Brand         5045 non-null   object\n",
      " 3   Model         5045 non-null   object\n",
      " 4   Variant       5045 non-null   object\n",
      " 5   Year          5045 non-null   int64 \n",
      " 6   Kilometers    5045 non-null   int64 \n",
      " 7   No_of_owners  5045 non-null   int64 \n",
      " 8   Fuel          5045 non-null   object\n",
      " 9   Transmission  4864 non-null   object\n",
      " 10  Price         5045 non-null   int64 \n",
      "dtypes: int64(4), object(7)\n",
      "memory usage: 473.0+ KB\n"
     ]
    }
   ],
   "source": [
    "df.info()"
   ]
  },
  {
   "cell_type": "markdown",
   "metadata": {},
   "source": [
    "In Transmission column there are few null values.\n",
    "\n",
    "Trying to fill the nulls, we can notice that the type of transmission is appended to the values in the model column"
   ]
  },
  {
   "cell_type": "code",
   "execution_count": 5,
   "metadata": {},
   "outputs": [
    {
     "data": {
      "text/html": [
       "<div>\n",
       "<style scoped>\n",
       "    .dataframe tbody tr th:only-of-type {\n",
       "        vertical-align: middle;\n",
       "    }\n",
       "\n",
       "    .dataframe tbody tr th {\n",
       "        vertical-align: top;\n",
       "    }\n",
       "\n",
       "    .dataframe thead th {\n",
       "        text-align: right;\n",
       "    }\n",
       "</style>\n",
       "<table border=\"1\" class=\"dataframe\">\n",
       "  <thead>\n",
       "    <tr style=\"text-align: right;\">\n",
       "      <th></th>\n",
       "      <th>Model</th>\n",
       "      <th>Transmission</th>\n",
       "    </tr>\n",
       "  </thead>\n",
       "  <tbody>\n",
       "    <tr>\n",
       "      <th>75</th>\n",
       "      <td>S PRESSO</td>\n",
       "      <td>NaN</td>\n",
       "    </tr>\n",
       "    <tr>\n",
       "      <th>100</th>\n",
       "      <td>Redi Go</td>\n",
       "      <td>NaN</td>\n",
       "    </tr>\n",
       "    <tr>\n",
       "      <th>295</th>\n",
       "      <td>SX4</td>\n",
       "      <td>NaN</td>\n",
       "    </tr>\n",
       "    <tr>\n",
       "      <th>301</th>\n",
       "      <td>Swift Dzire</td>\n",
       "      <td>NaN</td>\n",
       "    </tr>\n",
       "    <tr>\n",
       "      <th>311</th>\n",
       "      <td>Ciaz</td>\n",
       "      <td>NaN</td>\n",
       "    </tr>\n",
       "    <tr>\n",
       "      <th>...</th>\n",
       "      <td>...</td>\n",
       "      <td>...</td>\n",
       "    </tr>\n",
       "    <tr>\n",
       "      <th>4958</th>\n",
       "      <td>VENUE</td>\n",
       "      <td>NaN</td>\n",
       "    </tr>\n",
       "    <tr>\n",
       "      <th>5004</th>\n",
       "      <td>Creta</td>\n",
       "      <td>NaN</td>\n",
       "    </tr>\n",
       "    <tr>\n",
       "      <th>5030</th>\n",
       "      <td>S Cross</td>\n",
       "      <td>NaN</td>\n",
       "    </tr>\n",
       "    <tr>\n",
       "      <th>5033</th>\n",
       "      <td>Creta</td>\n",
       "      <td>NaN</td>\n",
       "    </tr>\n",
       "    <tr>\n",
       "      <th>5035</th>\n",
       "      <td>Creta</td>\n",
       "      <td>NaN</td>\n",
       "    </tr>\n",
       "  </tbody>\n",
       "</table>\n",
       "<p>181 rows × 2 columns</p>\n",
       "</div>"
      ],
      "text/plain": [
       "            Model Transmission\n",
       "75       S PRESSO          NaN\n",
       "100       Redi Go          NaN\n",
       "295           SX4          NaN\n",
       "301   Swift Dzire          NaN\n",
       "311          Ciaz          NaN\n",
       "...           ...          ...\n",
       "4958        VENUE          NaN\n",
       "5004        Creta          NaN\n",
       "5030      S Cross          NaN\n",
       "5033        Creta          NaN\n",
       "5035        Creta          NaN\n",
       "\n",
       "[181 rows x 2 columns]"
      ]
     },
     "execution_count": 5,
     "metadata": {},
     "output_type": "execute_result"
    }
   ],
   "source": [
    "df[[\"Model\",\"Transmission\"]][df[\"Transmission\"].isnull()]"
   ]
  },
  {
   "cell_type": "markdown",
   "metadata": {},
   "source": [
    "There are around 181 rows with null values and there is no type of transmission appened to the values in model column. \n",
    "\n",
    "So we cant fill the nulls with just model column, lets check with variant and fuel type with model specific."
   ]
  },
  {
   "cell_type": "code",
   "execution_count": 6,
   "metadata": {},
   "outputs": [
    {
     "data": {
      "text/plain": [
       "array(['S PRESSO', 'Redi Go', 'SX4', 'Swift Dzire', 'Ciaz', 'City',\n",
       "       'YARIS', 'VENUE', 'TRIBER', 'XL6', 'Creta', 'Corolla Altis', 'A4',\n",
       "       'XUV500', 'Q3', 'Alto K10', 'IGNIS', 'Grand i10', 'Baleno',\n",
       "       'Xcent', 'Etios', 'Vento', 'Harrier', 'Ecosport', 'Bolero',\n",
       "       'Vitara Brezza', 'Benz C Class', 'Compass', 'Polo', 'Elite i20',\n",
       "       'GRAND I10 NIOS', 'Kwid', 'Sunny', 'Amaze', 'XUV 3OO',\n",
       "       'New Elantra', 'New Figo', 'City ZX', 'TUV300', 'KUV 100 NXT',\n",
       "       'XCENT PRIME', 'S Cross'], dtype=object)"
      ]
     },
     "execution_count": 6,
     "metadata": {},
     "output_type": "execute_result"
    }
   ],
   "source": [
    "df[\"Model\"][df[\"Transmission\"].isnull()].unique()"
   ]
  },
  {
   "cell_type": "markdown",
   "metadata": {},
   "source": [
    "First, lets remove the type of transmission which is appended in model columns and make all the values to lower case."
   ]
  },
  {
   "cell_type": "code",
   "execution_count": 7,
   "metadata": {},
   "outputs": [],
   "source": [
    "df1 = df.copy()"
   ]
  },
  {
   "cell_type": "code",
   "execution_count": 8,
   "metadata": {},
   "outputs": [
    {
     "name": "stderr",
     "output_type": "stream",
     "text": [
      "<ipython-input-8-e5b031a4d17c>:4: SettingWithCopyWarning: \n",
      "A value is trying to be set on a copy of a slice from a DataFrame\n",
      "\n",
      "See the caveats in the documentation: https://pandas.pydata.org/pandas-docs/stable/user_guide/indexing.html#returning-a-view-versus-a-copy\n",
      "  df1[\"Model\"][i] = t.strip()\n"
     ]
    }
   ],
   "source": [
    "for i in range(len(df1[\"Model\"])):\n",
    "    t = df1[\"Model\"][i].lower().replace(\"manual\",'').replace(\"automatic\",'')\n",
    "    t = re.sub(r'\\s+',' ',t)\n",
    "    df1[\"Model\"][i] = t.strip()"
   ]
  },
  {
   "cell_type": "code",
   "execution_count": 9,
   "metadata": {},
   "outputs": [
    {
     "data": {
      "text/plain": [
       "5    grand i10 nios\n",
       "6          alto 800\n",
       "7             swift\n",
       "8            baleno\n",
       "9              kwid\n",
       "Name: Model, dtype: object"
      ]
     },
     "execution_count": 9,
     "metadata": {},
     "output_type": "execute_result"
    }
   ],
   "source": [
    "df1[\"Model\"][5:10]"
   ]
  },
  {
   "cell_type": "code",
   "execution_count": 10,
   "metadata": {},
   "outputs": [],
   "source": [
    "null_list = df1[\"Model\"][df[\"Transmission\"].isnull()].unique()"
   ]
  },
  {
   "cell_type": "code",
   "execution_count": 11,
   "metadata": {},
   "outputs": [
    {
     "name": "stdout",
     "output_type": "stream",
     "text": [
      "s presso \n",
      " 0    MANUAL\n",
      "dtype: object (26,)\n",
      "redi go \n",
      " 0    MANUAL\n",
      "dtype: object (15,)\n",
      "sx4 \n",
      " 0    MANUAL\n",
      "dtype: object (6,)\n",
      "swift dzire \n",
      " 0    MANUAL\n",
      "dtype: object (358,)\n",
      "ciaz \n",
      " 0    MANUAL\n",
      "dtype: object (60,)\n",
      "city \n",
      " 0    MANUAL\n",
      "dtype: object (173,)\n",
      "yaris \n",
      " 0    MANUAL\n",
      "dtype: object (8,)\n",
      "venue \n",
      " 0    MANUAL\n",
      "dtype: object (49,)\n",
      "triber \n",
      " 0    MANUAL\n",
      "dtype: object (18,)\n",
      "xl6 \n",
      " 0    MANUAL\n",
      "dtype: object (8,)\n",
      "creta \n",
      " 0    MANUAL\n",
      "dtype: object (142,)\n",
      "corolla altis \n",
      " 0    MANUAL\n",
      "dtype: object (101,)\n",
      "a4 \n",
      " 0    AUTOMATIC\n",
      "dtype: object (11,)\n",
      "xuv500 \n",
      " 0    MANUAL\n",
      "dtype: object (131,)\n",
      "q3 \n",
      " 0    AUTOMATIC\n",
      "dtype: object (19,)\n",
      "alto k10 \n",
      " 0    MANUAL\n",
      "dtype: object (153,)\n",
      "ignis \n",
      " 0    MANUAL\n",
      "dtype: object (24,)\n",
      "grand i10 \n",
      " 0    MANUAL\n",
      "dtype: object (175,)\n",
      "baleno \n",
      " 0    MANUAL\n",
      "dtype: object (126,)\n",
      "xcent \n",
      " 0    MANUAL\n",
      "dtype: object (28,)\n",
      "etios \n",
      " 0    MANUAL\n",
      "dtype: object (26,)\n",
      "vento \n",
      " 0    MANUAL\n",
      "dtype: object (46,)\n",
      "harrier \n",
      " 0    MANUAL\n",
      "dtype: object (6,)\n",
      "ecosport \n",
      " 0    MANUAL\n",
      "dtype: object (133,)\n",
      "bolero \n",
      " 0    MANUAL\n",
      "dtype: object (12,)\n",
      "vitara brezza \n",
      " 0    MANUAL\n",
      "dtype: object (309,)\n",
      "benz c class \n",
      " 0    MANUAL\n",
      "dtype: object (22,)\n",
      "compass \n",
      " 0    MANUAL\n",
      "dtype: object (35,)\n",
      "polo \n",
      " 0    MANUAL\n",
      "dtype: object (31,)\n",
      "elite i20 \n",
      " 0    MANUAL\n",
      "dtype: object (100,)\n",
      "grand i10 nios \n",
      " 0    MANUAL\n",
      "dtype: object (6,)\n",
      "kwid \n",
      " 0    MANUAL\n",
      "dtype: object (71,)\n",
      "sunny \n",
      " 0    MANUAL\n",
      "dtype: object (9,)\n",
      "amaze \n",
      " 0    MANUAL\n",
      "dtype: object (86,)\n",
      "xuv 3oo \n",
      " 0    MANUAL\n",
      "dtype: object (6,)\n",
      "new elantra \n",
      " 0    AUTOMATIC\n",
      "dtype: object (21,)\n",
      "new figo \n",
      " 0    MANUAL\n",
      "dtype: object (2,)\n",
      "city zx \n",
      " 0    MANUAL\n",
      "dtype: object (5,)\n",
      "tuv300 \n",
      " 0    MANUAL\n",
      "dtype: object (17,)\n",
      "kuv 100 nxt \n",
      " 0    MANUAL\n",
      "dtype: object (4,)\n",
      "xcent prime \n",
      " Series([], dtype: object) (1,)\n",
      "s cross \n",
      " 0    MANUAL\n",
      "dtype: object (57,)\n"
     ]
    }
   ],
   "source": [
    "fill_nulls = dict()\n",
    "for i in null_list:\n",
    "    try:\n",
    "        print(i, \"\\n\", df1[\"Transmission\"][df1[\"Model\"] == i].mode(), df1[\"Transmission\"][df1[\"Model\"] == i].shape)\n",
    "        fill_nulls[i] = df1[\"Transmission\"][df1[\"Model\"] == i].mode()[0]\n",
    "    except:\n",
    "        pass"
   ]
  },
  {
   "cell_type": "code",
   "execution_count": 12,
   "metadata": {},
   "outputs": [
    {
     "data": {
      "text/plain": [
       "{'s presso': 'MANUAL',\n",
       " 'redi go': 'MANUAL',\n",
       " 'sx4': 'MANUAL',\n",
       " 'swift dzire': 'MANUAL',\n",
       " 'ciaz': 'MANUAL',\n",
       " 'city': 'MANUAL',\n",
       " 'yaris': 'MANUAL',\n",
       " 'venue': 'MANUAL',\n",
       " 'triber': 'MANUAL',\n",
       " 'xl6': 'MANUAL',\n",
       " 'creta': 'MANUAL',\n",
       " 'corolla altis': 'MANUAL',\n",
       " 'a4': 'AUTOMATIC',\n",
       " 'xuv500': 'MANUAL',\n",
       " 'q3': 'AUTOMATIC',\n",
       " 'alto k10': 'MANUAL',\n",
       " 'ignis': 'MANUAL',\n",
       " 'grand i10': 'MANUAL',\n",
       " 'baleno': 'MANUAL',\n",
       " 'xcent': 'MANUAL',\n",
       " 'etios': 'MANUAL',\n",
       " 'vento': 'MANUAL',\n",
       " 'harrier': 'MANUAL',\n",
       " 'ecosport': 'MANUAL',\n",
       " 'bolero': 'MANUAL',\n",
       " 'vitara brezza': 'MANUAL',\n",
       " 'benz c class': 'MANUAL',\n",
       " 'compass': 'MANUAL',\n",
       " 'polo': 'MANUAL',\n",
       " 'elite i20': 'MANUAL',\n",
       " 'grand i10 nios': 'MANUAL',\n",
       " 'kwid': 'MANUAL',\n",
       " 'sunny': 'MANUAL',\n",
       " 'amaze': 'MANUAL',\n",
       " 'xuv 3oo': 'MANUAL',\n",
       " 'new elantra': 'AUTOMATIC',\n",
       " 'new figo': 'MANUAL',\n",
       " 'city zx': 'MANUAL',\n",
       " 'tuv300': 'MANUAL',\n",
       " 'kuv 100 nxt': 'MANUAL',\n",
       " 's cross': 'MANUAL'}"
      ]
     },
     "execution_count": 12,
     "metadata": {},
     "output_type": "execute_result"
    }
   ],
   "source": [
    "fill_nulls"
   ]
  },
  {
   "cell_type": "code",
   "execution_count": 13,
   "metadata": {},
   "outputs": [],
   "source": [
    "null_index = df1[\"Model\"][df1[\"Transmission\"].isnull()].index"
   ]
  },
  {
   "cell_type": "code",
   "execution_count": 14,
   "metadata": {},
   "outputs": [
    {
     "name": "stdout",
     "output_type": "stream",
     "text": [
      "181\n"
     ]
    },
    {
     "data": {
      "text/plain": [
       "Int64Index([  75,  100,  295,  301,  311,  317,  318,  358,  380,  445,\n",
       "            ...\n",
       "            4865, 4885, 4922, 4954, 4957, 4958, 5004, 5030, 5033, 5035],\n",
       "           dtype='int64', length=181)"
      ]
     },
     "execution_count": 14,
     "metadata": {},
     "output_type": "execute_result"
    }
   ],
   "source": [
    "print(len(null_index))\n",
    "null_index"
   ]
  },
  {
   "cell_type": "code",
   "execution_count": 15,
   "metadata": {},
   "outputs": [
    {
     "name": "stderr",
     "output_type": "stream",
     "text": [
      "<ipython-input-15-5d4baa2d1769>:3: SettingWithCopyWarning: \n",
      "A value is trying to be set on a copy of a slice from a DataFrame\n",
      "\n",
      "See the caveats in the documentation: https://pandas.pydata.org/pandas-docs/stable/user_guide/indexing.html#returning-a-view-versus-a-copy\n",
      "  df1[\"Transmission\"][i] = fill_nulls[df1[\"Model\"][i]]\n",
      "<ipython-input-15-5d4baa2d1769>:5: SettingWithCopyWarning: \n",
      "A value is trying to be set on a copy of a slice from a DataFrame\n",
      "\n",
      "See the caveats in the documentation: https://pandas.pydata.org/pandas-docs/stable/user_guide/indexing.html#returning-a-view-versus-a-copy\n",
      "  df1[\"Transmission\"][i] = \"manual\"\n"
     ]
    }
   ],
   "source": [
    "for i in null_index:\n",
    "    try:\n",
    "        df1[\"Transmission\"][i] = fill_nulls[df1[\"Model\"][i]]\n",
    "    except:\n",
    "        df1[\"Transmission\"][i] = \"manual\""
   ]
  },
  {
   "cell_type": "markdown",
   "metadata": {},
   "source": [
    "All nulls have been filled including the one which has only one model in the entire data set. Therefore we filled it with manual."
   ]
  },
  {
   "cell_type": "code",
   "execution_count": 16,
   "metadata": {},
   "outputs": [
    {
     "data": {
      "text/plain": [
       "Series([], Name: Transmission, dtype: object)"
      ]
     },
     "execution_count": 16,
     "metadata": {},
     "output_type": "execute_result"
    }
   ],
   "source": [
    "df1[\"Transmission\"][df1[\"Transmission\"].isnull()]"
   ]
  },
  {
   "cell_type": "markdown",
   "metadata": {},
   "source": [
    "There are no more null values"
   ]
  },
  {
   "cell_type": "code",
   "execution_count": 17,
   "metadata": {},
   "outputs": [
    {
     "data": {
      "text/plain": [
       "Location        object\n",
       "Type            object\n",
       "Brand           object\n",
       "Model           object\n",
       "Variant         object\n",
       "Year             int64\n",
       "Kilometers       int64\n",
       "No_of_owners     int64\n",
       "Fuel            object\n",
       "Transmission    object\n",
       "Price            int64\n",
       "dtype: object"
      ]
     },
     "execution_count": 17,
     "metadata": {},
     "output_type": "execute_result"
    }
   ],
   "source": [
    "df1.dtypes"
   ]
  },
  {
   "cell_type": "markdown",
   "metadata": {},
   "source": [
    "Lets convert every string object to lower case"
   ]
  },
  {
   "cell_type": "code",
   "execution_count": 18,
   "metadata": {},
   "outputs": [
    {
     "name": "stderr",
     "output_type": "stream",
     "text": [
      "<ipython-input-18-7956e63c8e63>:3: SettingWithCopyWarning: \n",
      "A value is trying to be set on a copy of a slice from a DataFrame\n",
      "\n",
      "See the caveats in the documentation: https://pandas.pydata.org/pandas-docs/stable/user_guide/indexing.html#returning-a-view-versus-a-copy\n",
      "  df1[c][i] = df1[c][i].lower()\n"
     ]
    }
   ],
   "source": [
    "for c in [\"Location\",\"Type\",\"Brand\",\"Model\",\"Variant\",\"Fuel\",\"Transmission\"]:\n",
    "    for i in range(df.shape[0]):\n",
    "        df1[c][i] = df1[c][i].lower()\n",
    "    "
   ]
  },
  {
   "cell_type": "code",
   "execution_count": 19,
   "metadata": {},
   "outputs": [
    {
     "data": {
      "text/html": [
       "<div>\n",
       "<style scoped>\n",
       "    .dataframe tbody tr th:only-of-type {\n",
       "        vertical-align: middle;\n",
       "    }\n",
       "\n",
       "    .dataframe tbody tr th {\n",
       "        vertical-align: top;\n",
       "    }\n",
       "\n",
       "    .dataframe thead th {\n",
       "        text-align: right;\n",
       "    }\n",
       "</style>\n",
       "<table border=\"1\" class=\"dataframe\">\n",
       "  <thead>\n",
       "    <tr style=\"text-align: right;\">\n",
       "      <th></th>\n",
       "      <th>Location</th>\n",
       "      <th>Type</th>\n",
       "      <th>Brand</th>\n",
       "      <th>Model</th>\n",
       "      <th>Variant</th>\n",
       "      <th>Year</th>\n",
       "      <th>Kilometers</th>\n",
       "      <th>No_of_owners</th>\n",
       "      <th>Fuel</th>\n",
       "      <th>Transmission</th>\n",
       "      <th>Price</th>\n",
       "    </tr>\n",
       "  </thead>\n",
       "  <tbody>\n",
       "    <tr>\n",
       "      <th>0</th>\n",
       "      <td>new delhi</td>\n",
       "      <td>hatchback</td>\n",
       "      <td>maruti</td>\n",
       "      <td>swift</td>\n",
       "      <td>lxi</td>\n",
       "      <td>2020</td>\n",
       "      <td>3570</td>\n",
       "      <td>1</td>\n",
       "      <td>petrol</td>\n",
       "      <td>manual</td>\n",
       "      <td>580799</td>\n",
       "    </tr>\n",
       "    <tr>\n",
       "      <th>1</th>\n",
       "      <td>new delhi</td>\n",
       "      <td>hatchback</td>\n",
       "      <td>maruti</td>\n",
       "      <td>swift</td>\n",
       "      <td>lxi</td>\n",
       "      <td>2020</td>\n",
       "      <td>1755</td>\n",
       "      <td>1</td>\n",
       "      <td>petrol</td>\n",
       "      <td>manual</td>\n",
       "      <td>571399</td>\n",
       "    </tr>\n",
       "    <tr>\n",
       "      <th>2</th>\n",
       "      <td>new delhi</td>\n",
       "      <td>hatchback</td>\n",
       "      <td>maruti</td>\n",
       "      <td>s presso</td>\n",
       "      <td>vxi plus</td>\n",
       "      <td>2020</td>\n",
       "      <td>17058</td>\n",
       "      <td>1</td>\n",
       "      <td>petrol</td>\n",
       "      <td>manual</td>\n",
       "      <td>437299</td>\n",
       "    </tr>\n",
       "    <tr>\n",
       "      <th>3</th>\n",
       "      <td>new delhi</td>\n",
       "      <td>hatchback</td>\n",
       "      <td>maruti</td>\n",
       "      <td>alto 800</td>\n",
       "      <td>vxi</td>\n",
       "      <td>2014</td>\n",
       "      <td>5383</td>\n",
       "      <td>1</td>\n",
       "      <td>petrol</td>\n",
       "      <td>manual</td>\n",
       "      <td>291699</td>\n",
       "    </tr>\n",
       "    <tr>\n",
       "      <th>4</th>\n",
       "      <td>new delhi</td>\n",
       "      <td>hatchback</td>\n",
       "      <td>maruti</td>\n",
       "      <td>alto k10</td>\n",
       "      <td>lxi</td>\n",
       "      <td>2015</td>\n",
       "      <td>10957</td>\n",
       "      <td>1</td>\n",
       "      <td>petrol</td>\n",
       "      <td>manual</td>\n",
       "      <td>295299</td>\n",
       "    </tr>\n",
       "  </tbody>\n",
       "</table>\n",
       "</div>"
      ],
      "text/plain": [
       "    Location       Type   Brand     Model   Variant  Year  Kilometers  \\\n",
       "0  new delhi  hatchback  maruti     swift       lxi  2020        3570   \n",
       "1  new delhi  hatchback  maruti     swift       lxi  2020        1755   \n",
       "2  new delhi  hatchback  maruti  s presso  vxi plus  2020       17058   \n",
       "3  new delhi  hatchback  maruti  alto 800       vxi  2014        5383   \n",
       "4  new delhi  hatchback  maruti  alto k10       lxi  2015       10957   \n",
       "\n",
       "   No_of_owners    Fuel Transmission   Price  \n",
       "0             1  petrol       manual  580799  \n",
       "1             1  petrol       manual  571399  \n",
       "2             1  petrol       manual  437299  \n",
       "3             1  petrol       manual  291699  \n",
       "4             1  petrol       manual  295299  "
      ]
     },
     "execution_count": 19,
     "metadata": {},
     "output_type": "execute_result"
    }
   ],
   "source": [
    "df1.head()"
   ]
  },
  {
   "cell_type": "code",
   "execution_count": 20,
   "metadata": {},
   "outputs": [
    {
     "data": {
      "text/plain": [
       "<AxesSubplot:>"
      ]
     },
     "execution_count": 20,
     "metadata": {},
     "output_type": "execute_result"
    },
    {
     "data": {
      "image/png": "[encoded data removed]",
      "text/plain": [
       "<Figure size 1440x720 with 1 Axes>"
      ]
     },
     "metadata": {
      "needs_background": "light"
     },
     "output_type": "display_data"
    }
   ],
   "source": [
    "plt.figure(figsize = (20,10))\n",
    "df1['Brand'].value_counts().plot(kind=\"bar\")"
   ]
  },
  {
   "cell_type": "markdown",
   "metadata": {},
   "source": [
    "from the above graph, we can see that maruti brand is almost in half of the dataset.\n",
    "\n",
    "maruti, hyundai, honda, toyota, mahindra accounts to approximately 70% of the entire dataset"
   ]
  },
  {
   "cell_type": "code",
   "execution_count": 21,
   "metadata": {},
   "outputs": [
    {
     "data": {
      "text/plain": [
       "<AxesSubplot:>"
      ]
     },
     "execution_count": 21,
     "metadata": {},
     "output_type": "execute_result"
    },
    {
     "data": {
      "image/png": "[encoded data removed]",
      "text/plain": [
       "<Figure size 720x360 with 1 Axes>"
      ]
     },
     "metadata": {
      "needs_background": "light"
     },
     "output_type": "display_data"
    }
   ],
   "source": [
    "plt.figure(figsize = (10,5))\n",
    "df1['Type'].value_counts().plot(kind=\"bar\")"
   ]
  },
  {
   "cell_type": "markdown",
   "metadata": {},
   "source": [
    "We can see that the luxury cars are very less.\n",
    "\n",
    "re used hatchbacks and suvs are more in number."
   ]
  },
  {
   "cell_type": "markdown",
   "metadata": {},
   "source": [
    "As year column has much less impact as a continuous variable lets convert this into a new column with no.of.years used and as categorical column"
   ]
  },
  {
   "cell_type": "code",
   "execution_count": 22,
   "metadata": {},
   "outputs": [],
   "source": [
    "No_of_years = []\n",
    "for i in range(df1.shape[0]):\n",
    "    No_of_years.append(2021 - df1[\"Year\"][i])\n",
    "    \n",
    "df1[\"No_of_years\"] = No_of_years"
   ]
  },
  {
   "cell_type": "code",
   "execution_count": 23,
   "metadata": {},
   "outputs": [],
   "source": [
    "df2 = df1.drop(columns = [\"Year\"]).copy()"
   ]
  },
  {
   "cell_type": "code",
   "execution_count": 24,
   "metadata": {},
   "outputs": [
    {
     "data": {
      "text/html": [
       "<div>\n",
       "<style scoped>\n",
       "    .dataframe tbody tr th:only-of-type {\n",
       "        vertical-align: middle;\n",
       "    }\n",
       "\n",
       "    .dataframe tbody tr th {\n",
       "        vertical-align: top;\n",
       "    }\n",
       "\n",
       "    .dataframe thead th {\n",
       "        text-align: right;\n",
       "    }\n",
       "</style>\n",
       "<table border=\"1\" class=\"dataframe\">\n",
       "  <thead>\n",
       "    <tr style=\"text-align: right;\">\n",
       "      <th></th>\n",
       "      <th>Location</th>\n",
       "      <th>Type</th>\n",
       "      <th>Brand</th>\n",
       "      <th>Model</th>\n",
       "      <th>Variant</th>\n",
       "      <th>Kilometers</th>\n",
       "      <th>No_of_owners</th>\n",
       "      <th>Fuel</th>\n",
       "      <th>Transmission</th>\n",
       "      <th>Price</th>\n",
       "      <th>No_of_years</th>\n",
       "    </tr>\n",
       "  </thead>\n",
       "  <tbody>\n",
       "    <tr>\n",
       "      <th>0</th>\n",
       "      <td>new delhi</td>\n",
       "      <td>hatchback</td>\n",
       "      <td>maruti</td>\n",
       "      <td>swift</td>\n",
       "      <td>lxi</td>\n",
       "      <td>3570</td>\n",
       "      <td>1</td>\n",
       "      <td>petrol</td>\n",
       "      <td>manual</td>\n",
       "      <td>580799</td>\n",
       "      <td>1</td>\n",
       "    </tr>\n",
       "    <tr>\n",
       "      <th>1</th>\n",
       "      <td>new delhi</td>\n",
       "      <td>hatchback</td>\n",
       "      <td>maruti</td>\n",
       "      <td>swift</td>\n",
       "      <td>lxi</td>\n",
       "      <td>1755</td>\n",
       "      <td>1</td>\n",
       "      <td>petrol</td>\n",
       "      <td>manual</td>\n",
       "      <td>571399</td>\n",
       "      <td>1</td>\n",
       "    </tr>\n",
       "    <tr>\n",
       "      <th>2</th>\n",
       "      <td>new delhi</td>\n",
       "      <td>hatchback</td>\n",
       "      <td>maruti</td>\n",
       "      <td>s presso</td>\n",
       "      <td>vxi plus</td>\n",
       "      <td>17058</td>\n",
       "      <td>1</td>\n",
       "      <td>petrol</td>\n",
       "      <td>manual</td>\n",
       "      <td>437299</td>\n",
       "      <td>1</td>\n",
       "    </tr>\n",
       "    <tr>\n",
       "      <th>3</th>\n",
       "      <td>new delhi</td>\n",
       "      <td>hatchback</td>\n",
       "      <td>maruti</td>\n",
       "      <td>alto 800</td>\n",
       "      <td>vxi</td>\n",
       "      <td>5383</td>\n",
       "      <td>1</td>\n",
       "      <td>petrol</td>\n",
       "      <td>manual</td>\n",
       "      <td>291699</td>\n",
       "      <td>7</td>\n",
       "    </tr>\n",
       "    <tr>\n",
       "      <th>4</th>\n",
       "      <td>new delhi</td>\n",
       "      <td>hatchback</td>\n",
       "      <td>maruti</td>\n",
       "      <td>alto k10</td>\n",
       "      <td>lxi</td>\n",
       "      <td>10957</td>\n",
       "      <td>1</td>\n",
       "      <td>petrol</td>\n",
       "      <td>manual</td>\n",
       "      <td>295299</td>\n",
       "      <td>6</td>\n",
       "    </tr>\n",
       "  </tbody>\n",
       "</table>\n",
       "</div>"
      ],
      "text/plain": [
       "    Location       Type   Brand     Model   Variant  Kilometers  No_of_owners  \\\n",
       "0  new delhi  hatchback  maruti     swift       lxi        3570             1   \n",
       "1  new delhi  hatchback  maruti     swift       lxi        1755             1   \n",
       "2  new delhi  hatchback  maruti  s presso  vxi plus       17058             1   \n",
       "3  new delhi  hatchback  maruti  alto 800       vxi        5383             1   \n",
       "4  new delhi  hatchback  maruti  alto k10       lxi       10957             1   \n",
       "\n",
       "     Fuel Transmission   Price  No_of_years  \n",
       "0  petrol       manual  580799            1  \n",
       "1  petrol       manual  571399            1  \n",
       "2  petrol       manual  437299            1  \n",
       "3  petrol       manual  291699            7  \n",
       "4  petrol       manual  295299            6  "
      ]
     },
     "execution_count": 24,
     "metadata": {},
     "output_type": "execute_result"
    }
   ],
   "source": [
    "df2.head()"
   ]
  },
  {
   "cell_type": "code",
   "execution_count": 25,
   "metadata": {},
   "outputs": [
    {
     "data": {
      "image/png": "[encoded data removed]",
      "text/plain": [
       "<Figure size 1080x360 with 1 Axes>"
      ]
     },
     "metadata": {
      "needs_background": "light"
     },
     "output_type": "display_data"
    },
    {
     "data": {
      "image/png": "[encoded data removed]",
      "text/plain": [
       "<Figure size 1080x360 with 1 Axes>"
      ]
     },
     "metadata": {
      "needs_background": "light"
     },
     "output_type": "display_data"
    },
    {
     "data": {
      "image/png": "[encoded data removed]",
      "text/plain": [
       "<Figure size 1080x360 with 1 Axes>"
      ]
     },
     "metadata": {
      "needs_background": "light"
     },
     "output_type": "display_data"
    },
    {
     "data": {
      "image/png": "[encoded data removed]",
      "text/plain": [
       "<Figure size 1080x360 with 1 Axes>"
      ]
     },
     "metadata": {
      "needs_background": "light"
     },
     "output_type": "display_data"
    },
    {
     "data": {
      "image/png": "[encoded data removed]",
      "text/plain": [
       "<Figure size 1080x360 with 1 Axes>"
      ]
     },
     "metadata": {
      "needs_background": "light"
     },
     "output_type": "display_data"
    }
   ],
   "source": [
    "for i in (\"maruti\",\"hyundai\",\"honda\", \"toyota\", \"mahindra\"):\n",
    "    plt.figure(figsize=(15,5))\n",
    "    df2[[\"Model\",\"Type\"]][df2[\"Brand\"]==i].value_counts()[0:5].plot(kind=\"bar\",title = i)"
   ]
  },
  {
   "cell_type": "markdown",
   "metadata": {},
   "source": [
    "in maruti -sedan -swift dezire is the top on the list of cars for sale.\n",
    "\n",
    "in hyundai -hatchback -grand i10 is the top on the list of cars for sale.\n",
    "\n",
    "in honda -sedan -city is the top on the list of cars for sale.\n",
    "\n",
    "in toyota -luxury suv -fortuner is the top on the list of cars for sale.\n",
    "\n",
    "in mahindra -suv -xuv500 is the top on the list of cars for sale."
   ]
  },
  {
   "cell_type": "code",
   "execution_count": 26,
   "metadata": {},
   "outputs": [
    {
     "data": {
      "text/plain": [
       "<AxesSubplot:title={'center':'Fuel'}>"
      ]
     },
     "execution_count": 26,
     "metadata": {},
     "output_type": "execute_result"
    },
    {
     "data": {
      "image/png": "[encoded data removed]",
      "text/plain": [
       "<Figure size 576x360 with 1 Axes>"
      ]
     },
     "metadata": {
      "needs_background": "light"
     },
     "output_type": "display_data"
    }
   ],
   "source": [
    "plt.figure(figsize=(8,5))\n",
    "df2[\"Fuel\"].value_counts().plot(kind=\"bar\",title = \"Fuel\")"
   ]
  },
  {
   "cell_type": "markdown",
   "metadata": {},
   "source": [
    "While petrol and diesel accounts for majority, there are few cars with petrol +cng and petrol+lpg"
   ]
  },
  {
   "cell_type": "code",
   "execution_count": 27,
   "metadata": {},
   "outputs": [
    {
     "data": {
      "text/plain": [
       "<AxesSubplot:title={'center':'Transmission'}>"
      ]
     },
     "execution_count": 27,
     "metadata": {},
     "output_type": "execute_result"
    },
    {
     "data": {
      "image/png": "[encoded data removed]",
      "text/plain": [
       "<Figure size 432x288 with 1 Axes>"
      ]
     },
     "metadata": {
      "needs_background": "light"
     },
     "output_type": "display_data"
    }
   ],
   "source": [
    "df2[\"Transmission\"].value_counts().plot(kind=\"bar\",title = \"Transmission\")"
   ]
  },
  {
   "cell_type": "markdown",
   "metadata": {},
   "source": [
    "manual transmission cars are around 80% and the rest are automatic transmission cars"
   ]
  },
  {
   "cell_type": "code",
   "execution_count": 28,
   "metadata": {},
   "outputs": [
    {
     "name": "stderr",
     "output_type": "stream",
     "text": [
      "C:\\Users\\AKHIL\\anaconda3\\lib\\site-packages\\seaborn\\_decorators.py:36: FutureWarning: Pass the following variable as a keyword arg: x. From version 0.12, the only valid positional argument will be `data`, and passing other arguments without an explicit keyword will result in an error or misinterpretation.\n",
      "  warnings.warn(\n"
     ]
    },
    {
     "data": {
      "text/plain": [
       "<AxesSubplot:xlabel='No_of_years', ylabel='count'>"
      ]
     },
     "execution_count": 28,
     "metadata": {},
     "output_type": "execute_result"
    },
    {
     "data": {
      "image/png": "[encoded data removed]",
      "text/plain": [
       "<Figure size 432x288 with 1 Axes>"
      ]
     },
     "metadata": {
      "needs_background": "light"
     },
     "output_type": "display_data"
    }
   ],
   "source": [
    "sns.countplot(df2[\"No_of_years\"].sort_values())"
   ]
  },
  {
   "cell_type": "markdown",
   "metadata": {},
   "source": [
    "Mostly when the car is 3-8 years old, it will be listed for a resale"
   ]
  },
  {
   "cell_type": "code",
   "execution_count": 29,
   "metadata": {},
   "outputs": [
    {
     "data": {
      "text/plain": [
       "<AxesSubplot:ylabel='Frequency'>"
      ]
     },
     "execution_count": 29,
     "metadata": {},
     "output_type": "execute_result"
    },
    {
     "data": {
      "image/png": "[encoded data removed]",
      "text/plain": [
       "<Figure size 432x288 with 1 Axes>"
      ]
     },
     "metadata": {
      "needs_background": "light"
     },
     "output_type": "display_data"
    }
   ],
   "source": [
    "df2[\"Price\"][df2[\"Type\"]==\"hatchback\"].plot(kind='hist')"
   ]
  },
  {
   "cell_type": "code",
   "execution_count": 30,
   "metadata": {},
   "outputs": [
    {
     "data": {
      "text/plain": [
       "<AxesSubplot:ylabel='Frequency'>"
      ]
     },
     "execution_count": 30,
     "metadata": {},
     "output_type": "execute_result"
    },
    {
     "data": {
      "image/png": "[encoded data removed]",
      "text/plain": [
       "<Figure size 432x288 with 1 Axes>"
      ]
     },
     "metadata": {
      "needs_background": "light"
     },
     "output_type": "display_data"
    }
   ],
   "source": [
    "df2[\"Price\"][df2[\"Type\"]==\"sedan\"].plot(kind='hist')"
   ]
  },
  {
   "cell_type": "code",
   "execution_count": 31,
   "metadata": {},
   "outputs": [
    {
     "data": {
      "text/plain": [
       "<AxesSubplot:ylabel='Frequency'>"
      ]
     },
     "execution_count": 31,
     "metadata": {},
     "output_type": "execute_result"
    },
    {
     "data": {
      "image/png": "[encoded data removed]",
      "text/plain": [
       "<Figure size 432x288 with 1 Axes>"
      ]
     },
     "metadata": {
      "needs_background": "light"
     },
     "output_type": "display_data"
    }
   ],
   "source": [
    "df2[\"Price\"][df2[\"Type\"]==\"suv\"].plot(kind='hist')"
   ]
  },
  {
   "cell_type": "code",
   "execution_count": 32,
   "metadata": {},
   "outputs": [
    {
     "data": {
      "text/plain": [
       "<AxesSubplot:ylabel='Frequency'>"
      ]
     },
     "execution_count": 32,
     "metadata": {},
     "output_type": "execute_result"
    },
    {
     "data": {
      "image/png": "[encoded data removed]",
      "text/plain": [
       "<Figure size 432x288 with 1 Axes>"
      ]
     },
     "metadata": {
      "needs_background": "light"
     },
     "output_type": "display_data"
    }
   ],
   "source": [
    "df2[\"Price\"][df2[\"Type\"]==\"luxury suv\"].plot(kind='hist')"
   ]
  },
  {
   "cell_type": "code",
   "execution_count": 33,
   "metadata": {},
   "outputs": [
    {
     "data": {
      "text/plain": [
       "<AxesSubplot:ylabel='Frequency'>"
      ]
     },
     "execution_count": 33,
     "metadata": {},
     "output_type": "execute_result"
    },
    {
     "data": {
      "image/png": "[encoded data removed]",
      "text/plain": [
       "<Figure size 432x288 with 1 Axes>"
      ]
     },
     "metadata": {
      "needs_background": "light"
     },
     "output_type": "display_data"
    }
   ],
   "source": [
    "df2[\"Price\"][df2[\"Type\"]==\"luxury sedan\"].plot(kind='hist')"
   ]
  },
  {
   "cell_type": "code",
   "execution_count": 37,
   "metadata": {},
   "outputs": [
    {
     "name": "stdout",
     "output_type": "stream",
     "text": [
      "hatchback \n",
      "              No_of_years     Price\n",
      "No_of_years     1.000000 -0.612493\n",
      "Price          -0.612493  1.000000 \n",
      "\n",
      "sedan \n",
      "              No_of_years     Price\n",
      "No_of_years     1.000000 -0.554964\n",
      "Price          -0.554964  1.000000 \n",
      "\n",
      "suv \n",
      "              No_of_years     Price\n",
      "No_of_years     1.000000 -0.406582\n",
      "Price          -0.406582  1.000000 \n",
      "\n",
      "luxury sedan \n",
      "              No_of_years     Price\n",
      "No_of_years     1.000000 -0.655786\n",
      "Price          -0.655786  1.000000 \n",
      "\n",
      "luxury suv \n",
      "              No_of_years     Price\n",
      "No_of_years     1.000000 -0.163491\n",
      "Price          -0.163491  1.000000 \n",
      "\n"
     ]
    }
   ],
   "source": [
    "for i in df2[\"Type\"].unique():\n",
    "    print(i,\"\\n\", df2[[\"No_of_years\",\"Price\"]][df2[\"Type\"]==i].corr(),\"\\n\")"
   ]
  },
  {
   "cell_type": "markdown",
   "metadata": {},
   "source": [
    "It is obvious that as age of use increases the resale value decreases, but luxury suv value is decreased very less when compared to other car types."
   ]
  },
  {
   "cell_type": "code",
   "execution_count": 40,
   "metadata": {},
   "outputs": [
    {
     "name": "stderr",
     "output_type": "stream",
     "text": [
      "C:\\Users\\AKHIL\\anaconda3\\lib\\site-packages\\seaborn\\_decorators.py:36: FutureWarning: Pass the following variables as keyword args: x, y. From version 0.12, the only valid positional argument will be `data`, and passing other arguments without an explicit keyword will result in an error or misinterpretation.\n",
      "  warnings.warn(\n"
     ]
    },
    {
     "data": {
      "text/plain": [
       "<AxesSubplot:xlabel='Fuel', ylabel='No_of_years'>"
      ]
     },
     "execution_count": 40,
     "metadata": {},
     "output_type": "execute_result"
    },
    {
     "data": {
      "image/png": "[encoded data removed]",
      "text/plain": [
       "<Figure size 432x288 with 1 Axes>"
      ]
     },
     "metadata": {
      "needs_background": "light"
     },
     "output_type": "display_data"
    }
   ],
   "source": [
    "sns.scatterplot(df2[\"Fuel\"],df2[\"No_of_years\"])"
   ]
  },
  {
   "cell_type": "markdown",
   "metadata": {},
   "source": [
    "Here, we can see that petrol+lpg cars are resaled mostly after 10 years of usage"
   ]
  },
  {
   "cell_type": "code",
   "execution_count": 48,
   "metadata": {},
   "outputs": [
    {
     "name": "stderr",
     "output_type": "stream",
     "text": [
      "C:\\Users\\AKHIL\\anaconda3\\lib\\site-packages\\seaborn\\_decorators.py:36: FutureWarning: Pass the following variables as keyword args: x, y. From version 0.12, the only valid positional argument will be `data`, and passing other arguments without an explicit keyword will result in an error or misinterpretation.\n",
      "  warnings.warn(\n",
      "C:\\Users\\AKHIL\\anaconda3\\lib\\site-packages\\seaborn\\_decorators.py:36: FutureWarning: Pass the following variables as keyword args: x, y. From version 0.12, the only valid positional argument will be `data`, and passing other arguments without an explicit keyword will result in an error or misinterpretation.\n",
      "  warnings.warn(\n",
      "C:\\Users\\AKHIL\\anaconda3\\lib\\site-packages\\seaborn\\_decorators.py:36: FutureWarning: Pass the following variables as keyword args: x, y. From version 0.12, the only valid positional argument will be `data`, and passing other arguments without an explicit keyword will result in an error or misinterpretation.\n",
      "  warnings.warn(\n",
      "C:\\Users\\AKHIL\\anaconda3\\lib\\site-packages\\seaborn\\_decorators.py:36: FutureWarning: Pass the following variables as keyword args: x, y. From version 0.12, the only valid positional argument will be `data`, and passing other arguments without an explicit keyword will result in an error or misinterpretation.\n",
      "  warnings.warn(\n",
      "C:\\Users\\AKHIL\\anaconda3\\lib\\site-packages\\seaborn\\_decorators.py:36: FutureWarning: Pass the following variables as keyword args: x, y. From version 0.12, the only valid positional argument will be `data`, and passing other arguments without an explicit keyword will result in an error or misinterpretation.\n",
      "  warnings.warn(\n"
     ]
    },
    {
     "data": {
      "image/png": "[encoded data removed]",
      "text/plain": [
       "<Figure size 432x288 with 1 Axes>"
      ]
     },
     "metadata": {
      "needs_background": "light"
     },
     "output_type": "display_data"
    },
    {
     "data": {
      "image/png": "[encoded data removed]",
      "text/plain": [
       "<Figure size 432x288 with 1 Axes>"
      ]
     },
     "metadata": {
      "needs_background": "light"
     },
     "output_type": "display_data"
    },
    {
     "data": {
      "image/png": "[encoded data removed]",
      "text/plain": [
       "<Figure size 432x288 with 1 Axes>"
      ]
     },
     "metadata": {
      "needs_background": "light"
     },
     "output_type": "display_data"
    },
    {
     "data": {
      "image/png": "[encoded data removed]",
      "text/plain": [
       "<Figure size 432x288 with 1 Axes>"
      ]
     },
     "metadata": {
      "needs_background": "light"
     },
     "output_type": "display_data"
    },
    {
     "data": {
      "image/png": "[encoded data removed]",
      "text/plain": [
       "<Figure size 432x288 with 1 Axes>"
      ]
     },
     "metadata": {
      "needs_background": "light"
     },
     "output_type": "display_data"
    }
   ],
   "source": [
    "for i in df2[\"Type\"].unique():\n",
    "    plt.subplots()\n",
    "    plt.title(\"Age vs Price for {} Type\".format(i))\n",
    "    sns.scatterplot(df2[\"No_of_years\"],df2[\"Price\"][df2[\"Type\"]==i])"
   ]
  },
  {
   "cell_type": "code",
   "execution_count": 49,
   "metadata": {},
   "outputs": [
    {
     "data": {
      "text/html": [
       "<div>\n",
       "<style scoped>\n",
       "    .dataframe tbody tr th:only-of-type {\n",
       "        vertical-align: middle;\n",
       "    }\n",
       "\n",
       "    .dataframe tbody tr th {\n",
       "        vertical-align: top;\n",
       "    }\n",
       "\n",
       "    .dataframe thead th {\n",
       "        text-align: right;\n",
       "    }\n",
       "</style>\n",
       "<table border=\"1\" class=\"dataframe\">\n",
       "  <thead>\n",
       "    <tr style=\"text-align: right;\">\n",
       "      <th></th>\n",
       "      <th>Location</th>\n",
       "      <th>Type</th>\n",
       "      <th>Brand</th>\n",
       "      <th>Model</th>\n",
       "      <th>Variant</th>\n",
       "      <th>Kilometers</th>\n",
       "      <th>No_of_owners</th>\n",
       "      <th>Fuel</th>\n",
       "      <th>Transmission</th>\n",
       "      <th>Price</th>\n",
       "      <th>No_of_years</th>\n",
       "    </tr>\n",
       "  </thead>\n",
       "  <tbody>\n",
       "    <tr>\n",
       "      <th>0</th>\n",
       "      <td>new delhi</td>\n",
       "      <td>hatchback</td>\n",
       "      <td>maruti</td>\n",
       "      <td>swift</td>\n",
       "      <td>lxi</td>\n",
       "      <td>3570</td>\n",
       "      <td>1</td>\n",
       "      <td>petrol</td>\n",
       "      <td>manual</td>\n",
       "      <td>580799</td>\n",
       "      <td>1</td>\n",
       "    </tr>\n",
       "    <tr>\n",
       "      <th>1</th>\n",
       "      <td>new delhi</td>\n",
       "      <td>hatchback</td>\n",
       "      <td>maruti</td>\n",
       "      <td>swift</td>\n",
       "      <td>lxi</td>\n",
       "      <td>1755</td>\n",
       "      <td>1</td>\n",
       "      <td>petrol</td>\n",
       "      <td>manual</td>\n",
       "      <td>571399</td>\n",
       "      <td>1</td>\n",
       "    </tr>\n",
       "    <tr>\n",
       "      <th>2</th>\n",
       "      <td>new delhi</td>\n",
       "      <td>hatchback</td>\n",
       "      <td>maruti</td>\n",
       "      <td>s presso</td>\n",
       "      <td>vxi plus</td>\n",
       "      <td>17058</td>\n",
       "      <td>1</td>\n",
       "      <td>petrol</td>\n",
       "      <td>manual</td>\n",
       "      <td>437299</td>\n",
       "      <td>1</td>\n",
       "    </tr>\n",
       "    <tr>\n",
       "      <th>3</th>\n",
       "      <td>new delhi</td>\n",
       "      <td>hatchback</td>\n",
       "      <td>maruti</td>\n",
       "      <td>alto 800</td>\n",
       "      <td>vxi</td>\n",
       "      <td>5383</td>\n",
       "      <td>1</td>\n",
       "      <td>petrol</td>\n",
       "      <td>manual</td>\n",
       "      <td>291699</td>\n",
       "      <td>7</td>\n",
       "    </tr>\n",
       "    <tr>\n",
       "      <th>4</th>\n",
       "      <td>new delhi</td>\n",
       "      <td>hatchback</td>\n",
       "      <td>maruti</td>\n",
       "      <td>alto k10</td>\n",
       "      <td>lxi</td>\n",
       "      <td>10957</td>\n",
       "      <td>1</td>\n",
       "      <td>petrol</td>\n",
       "      <td>manual</td>\n",
       "      <td>295299</td>\n",
       "      <td>6</td>\n",
       "    </tr>\n",
       "  </tbody>\n",
       "</table>\n",
       "</div>"
      ],
      "text/plain": [
       "    Location       Type   Brand     Model   Variant  Kilometers  No_of_owners  \\\n",
       "0  new delhi  hatchback  maruti     swift       lxi        3570             1   \n",
       "1  new delhi  hatchback  maruti     swift       lxi        1755             1   \n",
       "2  new delhi  hatchback  maruti  s presso  vxi plus       17058             1   \n",
       "3  new delhi  hatchback  maruti  alto 800       vxi        5383             1   \n",
       "4  new delhi  hatchback  maruti  alto k10       lxi       10957             1   \n",
       "\n",
       "     Fuel Transmission   Price  No_of_years  \n",
       "0  petrol       manual  580799            1  \n",
       "1  petrol       manual  571399            1  \n",
       "2  petrol       manual  437299            1  \n",
       "3  petrol       manual  291699            7  \n",
       "4  petrol       manual  295299            6  "
      ]
     },
     "execution_count": 49,
     "metadata": {},
     "output_type": "execute_result"
    }
   ],
   "source": [
    "df2.head()"
   ]
  },
  {
   "cell_type": "code",
   "execution_count": 51,
   "metadata": {},
   "outputs": [
    {
     "name": "stdout",
     "output_type": "stream",
     "text": [
      "hatchback \n",
      "               No_of_owners     Price\n",
      "No_of_owners      1.000000 -0.163656\n",
      "Price            -0.163656  1.000000 \n",
      "\n",
      "sedan \n",
      "               No_of_owners     Price\n",
      "No_of_owners      1.000000 -0.159631\n",
      "Price            -0.159631  1.000000 \n",
      "\n",
      "suv \n",
      "               No_of_owners     Price\n",
      "No_of_owners      1.000000 -0.121687\n",
      "Price            -0.121687  1.000000 \n",
      "\n",
      "luxury sedan \n",
      "               No_of_owners     Price\n",
      "No_of_owners      1.000000 -0.165986\n",
      "Price            -0.165986  1.000000 \n",
      "\n",
      "luxury suv \n",
      "               No_of_owners     Price\n",
      "No_of_owners      1.000000 -0.066573\n",
      "Price            -0.066573  1.000000 \n",
      "\n"
     ]
    }
   ],
   "source": [
    "for i in df2[\"Type\"].unique():\n",
    "    print(i,\"\\n\", df2[[\"No_of_owners\",\"Price\"]][df2[\"Type\"]==i].corr(),\"\\n\")"
   ]
  },
  {
   "cell_type": "markdown",
   "metadata": {},
   "source": [
    "it looks like prices of luxury suvs are not very much dependent on the no.of.owners."
   ]
  },
  {
   "cell_type": "code",
   "execution_count": 56,
   "metadata": {},
   "outputs": [
    {
     "data": {
      "image/png": "[encoded data removed]",
      "text/plain": [
       "<Figure size 432x288 with 2 Axes>"
      ]
     },
     "metadata": {
      "needs_background": "light"
     },
     "output_type": "display_data"
    },
    {
     "data": {
      "image/png": "[encoded data removed]",
      "text/plain": [
       "<Figure size 432x288 with 2 Axes>"
      ]
     },
     "metadata": {
      "needs_background": "light"
     },
     "output_type": "display_data"
    },
    {
     "data": {
      "image/png": "[encoded data removed]",
      "text/plain": [
       "<Figure size 432x288 with 2 Axes>"
      ]
     },
     "metadata": {
      "needs_background": "light"
     },
     "output_type": "display_data"
    },
    {
     "data": {
      "image/png": "[encoded data removed]",
      "text/plain": [
       "<Figure size 432x288 with 2 Axes>"
      ]
     },
     "metadata": {
      "needs_background": "light"
     },
     "output_type": "display_data"
    },
    {
     "data": {
      "image/png": "[encoded data removed]",
      "text/plain": [
       "<Figure size 432x288 with 2 Axes>"
      ]
     },
     "metadata": {
      "needs_background": "light"
     },
     "output_type": "display_data"
    }
   ],
   "source": [
    "for i in df2[\"Type\"].unique():\n",
    "    plt.subplots()\n",
    "    plt.title(\"for {}\".format(i))\n",
    "    sns.heatmap(df2[[\"Kilometers\",\"No_of_owners\",\"No_of_years\",\"Price\"]][df2[\"Type\"]==i].corr(),annot=True)"
   ]
  },
  {
   "cell_type": "code",
   "execution_count": 75,
   "metadata": {},
   "outputs": [
    {
     "data": {
      "image/png": "[encoded data removed]",
      "text/plain": [
       "<Figure size 432x288 with 2 Axes>"
      ]
     },
     "metadata": {
      "needs_background": "light"
     },
     "output_type": "display_data"
    },
    {
     "data": {
      "image/png": "[encoded data removed]",
      "text/plain": [
       "<Figure size 432x288 with 2 Axes>"
      ]
     },
     "metadata": {
      "needs_background": "light"
     },
     "output_type": "display_data"
    },
    {
     "data": {
      "image/png": "[encoded data removed]",
      "text/plain": [
       "<Figure size 432x288 with 2 Axes>"
      ]
     },
     "metadata": {
      "needs_background": "light"
     },
     "output_type": "display_data"
    },
    {
     "data": {
      "image/png": "[encoded data removed]",
      "text/plain": [
       "<Figure size 432x288 with 2 Axes>"
      ]
     },
     "metadata": {
      "needs_background": "light"
     },
     "output_type": "display_data"
    },
    {
     "data": {
      "image/png": "[encoded data removed]",
      "text/plain": [
       "<Figure size 432x288 with 2 Axes>"
      ]
     },
     "metadata": {
      "needs_background": "light"
     },
     "output_type": "display_data"
    }
   ],
   "source": [
    "for i in df2[\"Brand\"].value_counts()[0:5].index:\n",
    "    plt.subplots()\n",
    "    plt.title(\"for {}\".format(i))\n",
    "    sns.heatmap(df2[[\"Kilometers\",\"No_of_owners\",\"No_of_years\",\"Price\"]][df2[\"Brand\"]==i].corr(),annot=True)"
   ]
  },
  {
   "cell_type": "code",
   "execution_count": 76,
   "metadata": {},
   "outputs": [],
   "source": [
    "df3 = df2.copy()"
   ]
  },
  {
   "cell_type": "code",
   "execution_count": 77,
   "metadata": {},
   "outputs": [
    {
     "data": {
      "text/html": [
       "<div>\n",
       "<style scoped>\n",
       "    .dataframe tbody tr th:only-of-type {\n",
       "        vertical-align: middle;\n",
       "    }\n",
       "\n",
       "    .dataframe tbody tr th {\n",
       "        vertical-align: top;\n",
       "    }\n",
       "\n",
       "    .dataframe thead th {\n",
       "        text-align: right;\n",
       "    }\n",
       "</style>\n",
       "<table border=\"1\" class=\"dataframe\">\n",
       "  <thead>\n",
       "    <tr style=\"text-align: right;\">\n",
       "      <th></th>\n",
       "      <th>Location</th>\n",
       "      <th>Type</th>\n",
       "      <th>Brand</th>\n",
       "      <th>Model</th>\n",
       "      <th>Variant</th>\n",
       "      <th>Kilometers</th>\n",
       "      <th>No_of_owners</th>\n",
       "      <th>Fuel</th>\n",
       "      <th>Transmission</th>\n",
       "      <th>Price</th>\n",
       "      <th>No_of_years</th>\n",
       "    </tr>\n",
       "  </thead>\n",
       "  <tbody>\n",
       "    <tr>\n",
       "      <th>0</th>\n",
       "      <td>new delhi</td>\n",
       "      <td>hatchback</td>\n",
       "      <td>maruti</td>\n",
       "      <td>swift</td>\n",
       "      <td>lxi</td>\n",
       "      <td>3570</td>\n",
       "      <td>1</td>\n",
       "      <td>petrol</td>\n",
       "      <td>manual</td>\n",
       "      <td>580799</td>\n",
       "      <td>1</td>\n",
       "    </tr>\n",
       "    <tr>\n",
       "      <th>1</th>\n",
       "      <td>new delhi</td>\n",
       "      <td>hatchback</td>\n",
       "      <td>maruti</td>\n",
       "      <td>swift</td>\n",
       "      <td>lxi</td>\n",
       "      <td>1755</td>\n",
       "      <td>1</td>\n",
       "      <td>petrol</td>\n",
       "      <td>manual</td>\n",
       "      <td>571399</td>\n",
       "      <td>1</td>\n",
       "    </tr>\n",
       "    <tr>\n",
       "      <th>2</th>\n",
       "      <td>new delhi</td>\n",
       "      <td>hatchback</td>\n",
       "      <td>maruti</td>\n",
       "      <td>s presso</td>\n",
       "      <td>vxi plus</td>\n",
       "      <td>17058</td>\n",
       "      <td>1</td>\n",
       "      <td>petrol</td>\n",
       "      <td>manual</td>\n",
       "      <td>437299</td>\n",
       "      <td>1</td>\n",
       "    </tr>\n",
       "    <tr>\n",
       "      <th>3</th>\n",
       "      <td>new delhi</td>\n",
       "      <td>hatchback</td>\n",
       "      <td>maruti</td>\n",
       "      <td>alto 800</td>\n",
       "      <td>vxi</td>\n",
       "      <td>5383</td>\n",
       "      <td>1</td>\n",
       "      <td>petrol</td>\n",
       "      <td>manual</td>\n",
       "      <td>291699</td>\n",
       "      <td>7</td>\n",
       "    </tr>\n",
       "    <tr>\n",
       "      <th>4</th>\n",
       "      <td>new delhi</td>\n",
       "      <td>hatchback</td>\n",
       "      <td>maruti</td>\n",
       "      <td>alto k10</td>\n",
       "      <td>lxi</td>\n",
       "      <td>10957</td>\n",
       "      <td>1</td>\n",
       "      <td>petrol</td>\n",
       "      <td>manual</td>\n",
       "      <td>295299</td>\n",
       "      <td>6</td>\n",
       "    </tr>\n",
       "  </tbody>\n",
       "</table>\n",
       "</div>"
      ],
      "text/plain": [
       "    Location       Type   Brand     Model   Variant  Kilometers  No_of_owners  \\\n",
       "0  new delhi  hatchback  maruti     swift       lxi        3570             1   \n",
       "1  new delhi  hatchback  maruti     swift       lxi        1755             1   \n",
       "2  new delhi  hatchback  maruti  s presso  vxi plus       17058             1   \n",
       "3  new delhi  hatchback  maruti  alto 800       vxi        5383             1   \n",
       "4  new delhi  hatchback  maruti  alto k10       lxi       10957             1   \n",
       "\n",
       "     Fuel Transmission   Price  No_of_years  \n",
       "0  petrol       manual  580799            1  \n",
       "1  petrol       manual  571399            1  \n",
       "2  petrol       manual  437299            1  \n",
       "3  petrol       manual  291699            7  \n",
       "4  petrol       manual  295299            6  "
      ]
     },
     "execution_count": 77,
     "metadata": {},
     "output_type": "execute_result"
    }
   ],
   "source": [
    "df3.head()"
   ]
  },
  {
   "cell_type": "code",
   "execution_count": 81,
   "metadata": {},
   "outputs": [],
   "source": [
    "df3 = pd.get_dummies(data=df3,columns=['Location','Type','Brand','Model','Variant','Fuel','Transmission'])"
   ]
  },
  {
   "cell_type": "code",
   "execution_count": 83,
   "metadata": {},
   "outputs": [
    {
     "data": {
      "text/html": [
       "<div>\n",
       "<style scoped>\n",
       "    .dataframe tbody tr th:only-of-type {\n",
       "        vertical-align: middle;\n",
       "    }\n",
       "\n",
       "    .dataframe tbody tr th {\n",
       "        vertical-align: top;\n",
       "    }\n",
       "\n",
       "    .dataframe thead th {\n",
       "        text-align: right;\n",
       "    }\n",
       "</style>\n",
       "<table border=\"1\" class=\"dataframe\">\n",
       "  <thead>\n",
       "    <tr style=\"text-align: right;\">\n",
       "      <th></th>\n",
       "      <th>Kilometers</th>\n",
       "      <th>No_of_owners</th>\n",
       "      <th>Price</th>\n",
       "      <th>No_of_years</th>\n",
       "      <th>Location_ahmedabad</th>\n",
       "      <th>Location_bengaluru</th>\n",
       "      <th>Location_chennai</th>\n",
       "      <th>Location_gurgaon</th>\n",
       "      <th>Location_hyderabad</th>\n",
       "      <th>Location_kolkata</th>\n",
       "      <th>...</th>\n",
       "      <th>Variant_zxi opt amt</th>\n",
       "      <th>Variant_zxi plus</th>\n",
       "      <th>Variant_zxi plus amt</th>\n",
       "      <th>Variant_zxi plus shvs</th>\n",
       "      <th>Fuel_diesel</th>\n",
       "      <th>Fuel_petrol</th>\n",
       "      <th>Fuel_petrol + cng</th>\n",
       "      <th>Fuel_petrol + lpg</th>\n",
       "      <th>Transmission_automatic</th>\n",
       "      <th>Transmission_manual</th>\n",
       "    </tr>\n",
       "  </thead>\n",
       "  <tbody>\n",
       "    <tr>\n",
       "      <th>0</th>\n",
       "      <td>3570</td>\n",
       "      <td>1</td>\n",
       "      <td>580799</td>\n",
       "      <td>1</td>\n",
       "      <td>0</td>\n",
       "      <td>0</td>\n",
       "      <td>0</td>\n",
       "      <td>0</td>\n",
       "      <td>0</td>\n",
       "      <td>0</td>\n",
       "      <td>...</td>\n",
       "      <td>0</td>\n",
       "      <td>0</td>\n",
       "      <td>0</td>\n",
       "      <td>0</td>\n",
       "      <td>0</td>\n",
       "      <td>1</td>\n",
       "      <td>0</td>\n",
       "      <td>0</td>\n",
       "      <td>0</td>\n",
       "      <td>1</td>\n",
       "    </tr>\n",
       "    <tr>\n",
       "      <th>1</th>\n",
       "      <td>1755</td>\n",
       "      <td>1</td>\n",
       "      <td>571399</td>\n",
       "      <td>1</td>\n",
       "      <td>0</td>\n",
       "      <td>0</td>\n",
       "      <td>0</td>\n",
       "      <td>0</td>\n",
       "      <td>0</td>\n",
       "      <td>0</td>\n",
       "      <td>...</td>\n",
       "      <td>0</td>\n",
       "      <td>0</td>\n",
       "      <td>0</td>\n",
       "      <td>0</td>\n",
       "      <td>0</td>\n",
       "      <td>1</td>\n",
       "      <td>0</td>\n",
       "      <td>0</td>\n",
       "      <td>0</td>\n",
       "      <td>1</td>\n",
       "    </tr>\n",
       "    <tr>\n",
       "      <th>2</th>\n",
       "      <td>17058</td>\n",
       "      <td>1</td>\n",
       "      <td>437299</td>\n",
       "      <td>1</td>\n",
       "      <td>0</td>\n",
       "      <td>0</td>\n",
       "      <td>0</td>\n",
       "      <td>0</td>\n",
       "      <td>0</td>\n",
       "      <td>0</td>\n",
       "      <td>...</td>\n",
       "      <td>0</td>\n",
       "      <td>0</td>\n",
       "      <td>0</td>\n",
       "      <td>0</td>\n",
       "      <td>0</td>\n",
       "      <td>1</td>\n",
       "      <td>0</td>\n",
       "      <td>0</td>\n",
       "      <td>0</td>\n",
       "      <td>1</td>\n",
       "    </tr>\n",
       "    <tr>\n",
       "      <th>3</th>\n",
       "      <td>5383</td>\n",
       "      <td>1</td>\n",
       "      <td>291699</td>\n",
       "      <td>7</td>\n",
       "      <td>0</td>\n",
       "      <td>0</td>\n",
       "      <td>0</td>\n",
       "      <td>0</td>\n",
       "      <td>0</td>\n",
       "      <td>0</td>\n",
       "      <td>...</td>\n",
       "      <td>0</td>\n",
       "      <td>0</td>\n",
       "      <td>0</td>\n",
       "      <td>0</td>\n",
       "      <td>0</td>\n",
       "      <td>1</td>\n",
       "      <td>0</td>\n",
       "      <td>0</td>\n",
       "      <td>0</td>\n",
       "      <td>1</td>\n",
       "    </tr>\n",
       "    <tr>\n",
       "      <th>4</th>\n",
       "      <td>10957</td>\n",
       "      <td>1</td>\n",
       "      <td>295299</td>\n",
       "      <td>6</td>\n",
       "      <td>0</td>\n",
       "      <td>0</td>\n",
       "      <td>0</td>\n",
       "      <td>0</td>\n",
       "      <td>0</td>\n",
       "      <td>0</td>\n",
       "      <td>...</td>\n",
       "      <td>0</td>\n",
       "      <td>0</td>\n",
       "      <td>0</td>\n",
       "      <td>0</td>\n",
       "      <td>0</td>\n",
       "      <td>1</td>\n",
       "      <td>0</td>\n",
       "      <td>0</td>\n",
       "      <td>0</td>\n",
       "      <td>1</td>\n",
       "    </tr>\n",
       "  </tbody>\n",
       "</table>\n",
       "<p>5 rows × 856 columns</p>\n",
       "</div>"
      ],
      "text/plain": [
       "   Kilometers  No_of_owners   Price  No_of_years  Location_ahmedabad  \\\n",
       "0        3570             1  580799            1                   0   \n",
       "1        1755             1  571399            1                   0   \n",
       "2       17058             1  437299            1                   0   \n",
       "3        5383             1  291699            7                   0   \n",
       "4       10957             1  295299            6                   0   \n",
       "\n",
       "   Location_bengaluru  Location_chennai  Location_gurgaon  Location_hyderabad  \\\n",
       "0                   0                 0                 0                   0   \n",
       "1                   0                 0                 0                   0   \n",
       "2                   0                 0                 0                   0   \n",
       "3                   0                 0                 0                   0   \n",
       "4                   0                 0                 0                   0   \n",
       "\n",
       "   Location_kolkata  ...  Variant_zxi opt amt  Variant_zxi plus  \\\n",
       "0                 0  ...                    0                 0   \n",
       "1                 0  ...                    0                 0   \n",
       "2                 0  ...                    0                 0   \n",
       "3                 0  ...                    0                 0   \n",
       "4                 0  ...                    0                 0   \n",
       "\n",
       "   Variant_zxi plus amt  Variant_zxi plus shvs  Fuel_diesel  Fuel_petrol  \\\n",
       "0                     0                      0            0            1   \n",
       "1                     0                      0            0            1   \n",
       "2                     0                      0            0            1   \n",
       "3                     0                      0            0            1   \n",
       "4                     0                      0            0            1   \n",
       "\n",
       "   Fuel_petrol + cng  Fuel_petrol + lpg  Transmission_automatic  \\\n",
       "0                  0                  0                       0   \n",
       "1                  0                  0                       0   \n",
       "2                  0                  0                       0   \n",
       "3                  0                  0                       0   \n",
       "4                  0                  0                       0   \n",
       "\n",
       "   Transmission_manual  \n",
       "0                    1  \n",
       "1                    1  \n",
       "2                    1  \n",
       "3                    1  \n",
       "4                    1  \n",
       "\n",
       "[5 rows x 856 columns]"
      ]
     },
     "execution_count": 83,
     "metadata": {},
     "output_type": "execute_result"
    }
   ],
   "source": [
    "df3.head()"
   ]
  },
  {
   "cell_type": "markdown",
   "metadata": {},
   "source": [
    "except kilometers and price every other columns are in the range of 0-1 or nearer to it. Since, the prediction column price is very high in range,  the models will not be behaving as intended. Therefore, lets bring the difference between price and other columns range to as near as possible."
   ]
  },
  {
   "cell_type": "code",
   "execution_count": 84,
   "metadata": {},
   "outputs": [
    {
     "name": "stderr",
     "output_type": "stream",
     "text": [
      "C:\\Users\\AKHIL\\anaconda3\\lib\\site-packages\\seaborn\\distributions.py:2551: FutureWarning: `distplot` is a deprecated function and will be removed in a future version. Please adapt your code to use either `displot` (a figure-level function with similar flexibility) or `histplot` (an axes-level function for histograms).\n",
      "  warnings.warn(msg, FutureWarning)\n"
     ]
    },
    {
     "data": {
      "text/plain": [
       "<AxesSubplot:xlabel='Kilometers', ylabel='Density'>"
      ]
     },
     "execution_count": 84,
     "metadata": {},
     "output_type": "execute_result"
    },
    {
     "data": {
      "image/png": "[encoded data removed]",
      "text/plain": [
       "<Figure size 432x288 with 1 Axes>"
      ]
     },
     "metadata": {
      "needs_background": "light"
     },
     "output_type": "display_data"
    }
   ],
   "source": [
    "sns.distplot(df3[\"Kilometers\"])"
   ]
  },
  {
   "cell_type": "markdown",
   "metadata": {},
   "source": [
    "Looks like the density plot is indicating a skew. we will check the value"
   ]
  },
  {
   "cell_type": "code",
   "execution_count": 85,
   "metadata": {},
   "outputs": [
    {
     "data": {
      "text/plain": [
       "4.615566610186448"
      ]
     },
     "execution_count": 85,
     "metadata": {},
     "output_type": "execute_result"
    }
   ],
   "source": [
    "df3[\"Kilometers\"].skew()"
   ]
  },
  {
   "cell_type": "markdown",
   "metadata": {},
   "source": [
    "well the skewness is out of acceptable range for modelling ( -0.5 to 0.5)"
   ]
  },
  {
   "cell_type": "code",
   "execution_count": 87,
   "metadata": {},
   "outputs": [
    {
     "name": "stderr",
     "output_type": "stream",
     "text": [
      "C:\\Users\\AKHIL\\anaconda3\\lib\\site-packages\\seaborn\\_decorators.py:36: FutureWarning: Pass the following variable as a keyword arg: x. From version 0.12, the only valid positional argument will be `data`, and passing other arguments without an explicit keyword will result in an error or misinterpretation.\n",
      "  warnings.warn(\n"
     ]
    },
    {
     "data": {
      "text/plain": [
       "<AxesSubplot:xlabel='Kilometers'>"
      ]
     },
     "execution_count": 87,
     "metadata": {},
     "output_type": "execute_result"
    },
    {
     "data": {
      "image/png": "[encoded data removed]",
      "text/plain": [
       "<Figure size 720x360 with 1 Axes>"
      ]
     },
     "metadata": {
      "needs_background": "light"
     },
     "output_type": "display_data"
    }
   ],
   "source": [
    "plt.figure(figsize=(10,5))\n",
    "sns.boxplot(df3[\"Kilometers\"])"
   ]
  },
  {
   "cell_type": "markdown",
   "metadata": {},
   "source": [
    "It shows many outliers. dropping them would result in a dataloss and our dataset is of around 5k datapoints, it is not worth removing these outliers as dataloss would be huge"
   ]
  },
  {
   "cell_type": "code",
   "execution_count": 88,
   "metadata": {},
   "outputs": [],
   "source": [
    "Q1 = df[\"Kilometers\"].quantile(0.25)\n",
    "\n",
    "Q3 = df[\"Kilometers\"].quantile(0.75)\n",
    "\n",
    "IQR = Q3 - Q1\n",
    "\n",
    "Lower_Fence = Q1 - (1.5 * IQR)\n",
    "\n",
    "Upper_Fence = Q3 + (1.5 * IQR)"
   ]
  },
  {
   "cell_type": "code",
   "execution_count": 89,
   "metadata": {},
   "outputs": [
    {
     "data": {
      "text/plain": [
       "143428.5"
      ]
     },
     "execution_count": 89,
     "metadata": {},
     "output_type": "execute_result"
    }
   ],
   "source": [
    "Upper_Fence"
   ]
  },
  {
   "cell_type": "code",
   "execution_count": 91,
   "metadata": {},
   "outputs": [
    {
     "data": {
      "text/plain": [
       "187"
      ]
     },
     "execution_count": 91,
     "metadata": {},
     "output_type": "execute_result"
    }
   ],
   "source": [
    "df3[df3[\"Kilometers\"] > 143428.5].shape[0]"
   ]
  },
  {
   "cell_type": "markdown",
   "metadata": {},
   "source": [
    "187 values are outliers"
   ]
  },
  {
   "cell_type": "code",
   "execution_count": 93,
   "metadata": {},
   "outputs": [
    {
     "data": {
      "text/plain": [
       "suv             65\n",
       "luxury suv      54\n",
       "sedan           34\n",
       "luxury sedan    23\n",
       "hatchback       11\n",
       "Name: Type, dtype: int64"
      ]
     },
     "execution_count": 93,
     "metadata": {},
     "output_type": "execute_result"
    }
   ],
   "source": [
    "df2[\"Type\"][df2[\"Kilometers\"] > 143428.5].value_counts()"
   ]
  },
  {
   "cell_type": "markdown",
   "metadata": {},
   "source": [
    "suv and luxury suv have many outliers. Since, kilometers is directly related to the resale price as checked with correlation, we will not be removing these outliers. Lets apply some transformations to reduce some skewness"
   ]
  },
  {
   "cell_type": "code",
   "execution_count": 97,
   "metadata": {},
   "outputs": [
    {
     "data": {
      "text/plain": [
       "0.6645191233932475"
      ]
     },
     "execution_count": 97,
     "metadata": {},
     "output_type": "execute_result"
    }
   ],
   "source": [
    "k = np.sqrt(df3[\"Kilometers\"])\n",
    "k.skew()"
   ]
  },
  {
   "cell_type": "code",
   "execution_count": 98,
   "metadata": {},
   "outputs": [
    {
     "data": {
      "text/plain": [
       "0.13952807857765004"
      ]
     },
     "execution_count": 98,
     "metadata": {},
     "output_type": "execute_result"
    }
   ],
   "source": [
    "k = np.cbrt(df3[\"Kilometers\"])\n",
    "k.skew()"
   ]
  },
  {
   "cell_type": "markdown",
   "metadata": {},
   "source": [
    "cube root transformation brings the skewness under acceptable range for kilometers column. Now, lets check with the target column."
   ]
  },
  {
   "cell_type": "code",
   "execution_count": 99,
   "metadata": {},
   "outputs": [
    {
     "name": "stderr",
     "output_type": "stream",
     "text": [
      "C:\\Users\\AKHIL\\anaconda3\\lib\\site-packages\\seaborn\\distributions.py:2551: FutureWarning: `distplot` is a deprecated function and will be removed in a future version. Please adapt your code to use either `displot` (a figure-level function with similar flexibility) or `histplot` (an axes-level function for histograms).\n",
      "  warnings.warn(msg, FutureWarning)\n"
     ]
    },
    {
     "data": {
      "text/plain": [
       "<AxesSubplot:xlabel='Price', ylabel='Density'>"
      ]
     },
     "execution_count": 99,
     "metadata": {},
     "output_type": "execute_result"
    },
    {
     "data": {
      "image/png": "[encoded data removed]",
      "text/plain": [
       "<Figure size 432x288 with 1 Axes>"
      ]
     },
     "metadata": {
      "needs_background": "light"
     },
     "output_type": "display_data"
    }
   ],
   "source": [
    "sns.distplot(df3[\"Price\"])"
   ]
  },
  {
   "cell_type": "markdown",
   "metadata": {},
   "source": [
    "Looks like the price column is also skewed"
   ]
  },
  {
   "cell_type": "code",
   "execution_count": 100,
   "metadata": {},
   "outputs": [
    {
     "name": "stderr",
     "output_type": "stream",
     "text": [
      "C:\\Users\\AKHIL\\anaconda3\\lib\\site-packages\\seaborn\\_decorators.py:36: FutureWarning: Pass the following variable as a keyword arg: x. From version 0.12, the only valid positional argument will be `data`, and passing other arguments without an explicit keyword will result in an error or misinterpretation.\n",
      "  warnings.warn(\n"
     ]
    },
    {
     "data": {
      "text/plain": [
       "<AxesSubplot:xlabel='Price'>"
      ]
     },
     "execution_count": 100,
     "metadata": {},
     "output_type": "execute_result"
    },
    {
     "data": {
      "image/png": "[encoded data removed]",
      "text/plain": [
       "<Figure size 432x288 with 1 Axes>"
      ]
     },
     "metadata": {
      "needs_background": "light"
     },
     "output_type": "display_data"
    }
   ],
   "source": [
    "sns.boxplot(df3[\"Price\"])"
   ]
  },
  {
   "cell_type": "code",
   "execution_count": 102,
   "metadata": {},
   "outputs": [
    {
     "data": {
      "text/plain": [
       "1387049.0"
      ]
     },
     "execution_count": 102,
     "metadata": {},
     "output_type": "execute_result"
    }
   ],
   "source": [
    "Q1 = df[\"Price\"].quantile(0.25)\n",
    "\n",
    "Q3 = df[\"Price\"].quantile(0.75)\n",
    "\n",
    "IQR = Q3 - Q1\n",
    "\n",
    "Lower_Fence = Q1 - (1.5 * IQR)\n",
    "\n",
    "Upper_Fence = Q3 + (1.5 * IQR)\n",
    "\n",
    "Upper_Fence"
   ]
  },
  {
   "cell_type": "code",
   "execution_count": 103,
   "metadata": {},
   "outputs": [
    {
     "data": {
      "text/plain": [
       "256"
      ]
     },
     "execution_count": 103,
     "metadata": {},
     "output_type": "execute_result"
    }
   ],
   "source": [
    "df3[df3[\"Price\"] > 1387049.0].shape[0]"
   ]
  },
  {
   "cell_type": "markdown",
   "metadata": {},
   "source": [
    "256 outliers in the target column"
   ]
  },
  {
   "cell_type": "code",
   "execution_count": 104,
   "metadata": {},
   "outputs": [
    {
     "data": {
      "text/plain": [
       "26.026303698017127"
      ]
     },
     "execution_count": 104,
     "metadata": {},
     "output_type": "execute_result"
    }
   ],
   "source": [
    "df3[\"Price\"].skew()"
   ]
  },
  {
   "cell_type": "code",
   "execution_count": 107,
   "metadata": {},
   "outputs": [
    {
     "name": "stdout",
     "output_type": "stream",
     "text": [
      "sqrt 4.742716040805783\n",
      "cbrt 2.314288954089774\n",
      "log 0.6228602194771755\n"
     ]
    }
   ],
   "source": [
    "k = np.sqrt(df3[\"Price\"])\n",
    "print(\"sqrt\",k.skew())\n",
    "k = np.cbrt(df3[\"Price\"])\n",
    "print(\"cbrt\",k.skew())\n",
    "k = np.log(df3[\"Price\"])\n",
    "print(\"log\",k.skew())"
   ]
  },
  {
   "cell_type": "markdown",
   "metadata": {},
   "source": [
    "log transformation is good for the price column"
   ]
  },
  {
   "cell_type": "code",
   "execution_count": 108,
   "metadata": {},
   "outputs": [
    {
     "data": {
      "text/plain": [
       "luxury suv      106\n",
       "luxury sedan     83\n",
       "suv              62\n",
       "sedan             5\n",
       "Name: Type, dtype: int64"
      ]
     },
     "execution_count": 108,
     "metadata": {},
     "output_type": "execute_result"
    }
   ],
   "source": [
    "df2[\"Type\"][df2[\"Price\"] > 1387049.0].value_counts()"
   ]
  },
  {
   "cell_type": "markdown",
   "metadata": {},
   "source": [
    "Luxury suv and luxury sedan are having much higher prices which are outliers"
   ]
  },
  {
   "cell_type": "code",
   "execution_count": 114,
   "metadata": {},
   "outputs": [
    {
     "data": {
      "text/plain": [
       "0.350257824087146"
      ]
     },
     "execution_count": 114,
     "metadata": {},
     "output_type": "execute_result"
    }
   ],
   "source": [
    "df3[\"No_of_years\"].skew()"
   ]
  },
  {
   "cell_type": "markdown",
   "metadata": {},
   "source": [
    "years skew is acceptable"
   ]
  },
  {
   "cell_type": "code",
   "execution_count": 115,
   "metadata": {},
   "outputs": [],
   "source": [
    "df3[\"Kilometers\"] = np.cbrt(df3[\"Kilometers\"])\n",
    "df3[\"Price\"] = np.log(df3[\"Price\"])"
   ]
  },
  {
   "cell_type": "code",
   "execution_count": 116,
   "metadata": {},
   "outputs": [
    {
     "data": {
      "text/html": [
       "<div>\n",
       "<style scoped>\n",
       "    .dataframe tbody tr th:only-of-type {\n",
       "        vertical-align: middle;\n",
       "    }\n",
       "\n",
       "    .dataframe tbody tr th {\n",
       "        vertical-align: top;\n",
       "    }\n",
       "\n",
       "    .dataframe thead th {\n",
       "        text-align: right;\n",
       "    }\n",
       "</style>\n",
       "<table border=\"1\" class=\"dataframe\">\n",
       "  <thead>\n",
       "    <tr style=\"text-align: right;\">\n",
       "      <th></th>\n",
       "      <th>Kilometers</th>\n",
       "      <th>No_of_owners</th>\n",
       "      <th>Price</th>\n",
       "      <th>No_of_years</th>\n",
       "      <th>Location_ahmedabad</th>\n",
       "      <th>Location_bengaluru</th>\n",
       "      <th>Location_chennai</th>\n",
       "      <th>Location_gurgaon</th>\n",
       "      <th>Location_hyderabad</th>\n",
       "      <th>Location_kolkata</th>\n",
       "      <th>...</th>\n",
       "      <th>Variant_zxi opt amt</th>\n",
       "      <th>Variant_zxi plus</th>\n",
       "      <th>Variant_zxi plus amt</th>\n",
       "      <th>Variant_zxi plus shvs</th>\n",
       "      <th>Fuel_diesel</th>\n",
       "      <th>Fuel_petrol</th>\n",
       "      <th>Fuel_petrol + cng</th>\n",
       "      <th>Fuel_petrol + lpg</th>\n",
       "      <th>Transmission_automatic</th>\n",
       "      <th>Transmission_manual</th>\n",
       "    </tr>\n",
       "  </thead>\n",
       "  <tbody>\n",
       "    <tr>\n",
       "      <th>0</th>\n",
       "      <td>15.283497</td>\n",
       "      <td>1</td>\n",
       "      <td>13.272160</td>\n",
       "      <td>1</td>\n",
       "      <td>0</td>\n",
       "      <td>0</td>\n",
       "      <td>0</td>\n",
       "      <td>0</td>\n",
       "      <td>0</td>\n",
       "      <td>0</td>\n",
       "      <td>...</td>\n",
       "      <td>0</td>\n",
       "      <td>0</td>\n",
       "      <td>0</td>\n",
       "      <td>0</td>\n",
       "      <td>0</td>\n",
       "      <td>1</td>\n",
       "      <td>0</td>\n",
       "      <td>0</td>\n",
       "      <td>0</td>\n",
       "      <td>1</td>\n",
       "    </tr>\n",
       "    <tr>\n",
       "      <th>1</th>\n",
       "      <td>12.062177</td>\n",
       "      <td>1</td>\n",
       "      <td>13.255843</td>\n",
       "      <td>1</td>\n",
       "      <td>0</td>\n",
       "      <td>0</td>\n",
       "      <td>0</td>\n",
       "      <td>0</td>\n",
       "      <td>0</td>\n",
       "      <td>0</td>\n",
       "      <td>...</td>\n",
       "      <td>0</td>\n",
       "      <td>0</td>\n",
       "      <td>0</td>\n",
       "      <td>0</td>\n",
       "      <td>0</td>\n",
       "      <td>1</td>\n",
       "      <td>0</td>\n",
       "      <td>0</td>\n",
       "      <td>0</td>\n",
       "      <td>1</td>\n",
       "    </tr>\n",
       "    <tr>\n",
       "      <th>2</th>\n",
       "      <td>25.742025</td>\n",
       "      <td>1</td>\n",
       "      <td>12.988372</td>\n",
       "      <td>1</td>\n",
       "      <td>0</td>\n",
       "      <td>0</td>\n",
       "      <td>0</td>\n",
       "      <td>0</td>\n",
       "      <td>0</td>\n",
       "      <td>0</td>\n",
       "      <td>...</td>\n",
       "      <td>0</td>\n",
       "      <td>0</td>\n",
       "      <td>0</td>\n",
       "      <td>0</td>\n",
       "      <td>0</td>\n",
       "      <td>1</td>\n",
       "      <td>0</td>\n",
       "      <td>0</td>\n",
       "      <td>0</td>\n",
       "      <td>1</td>\n",
       "    </tr>\n",
       "    <tr>\n",
       "      <th>3</th>\n",
       "      <td>17.525677</td>\n",
       "      <td>1</td>\n",
       "      <td>12.583478</td>\n",
       "      <td>7</td>\n",
       "      <td>0</td>\n",
       "      <td>0</td>\n",
       "      <td>0</td>\n",
       "      <td>0</td>\n",
       "      <td>0</td>\n",
       "      <td>0</td>\n",
       "      <td>...</td>\n",
       "      <td>0</td>\n",
       "      <td>0</td>\n",
       "      <td>0</td>\n",
       "      <td>0</td>\n",
       "      <td>0</td>\n",
       "      <td>1</td>\n",
       "      <td>0</td>\n",
       "      <td>0</td>\n",
       "      <td>0</td>\n",
       "      <td>1</td>\n",
       "    </tr>\n",
       "    <tr>\n",
       "      <th>4</th>\n",
       "      <td>22.210784</td>\n",
       "      <td>1</td>\n",
       "      <td>12.595744</td>\n",
       "      <td>6</td>\n",
       "      <td>0</td>\n",
       "      <td>0</td>\n",
       "      <td>0</td>\n",
       "      <td>0</td>\n",
       "      <td>0</td>\n",
       "      <td>0</td>\n",
       "      <td>...</td>\n",
       "      <td>0</td>\n",
       "      <td>0</td>\n",
       "      <td>0</td>\n",
       "      <td>0</td>\n",
       "      <td>0</td>\n",
       "      <td>1</td>\n",
       "      <td>0</td>\n",
       "      <td>0</td>\n",
       "      <td>0</td>\n",
       "      <td>1</td>\n",
       "    </tr>\n",
       "  </tbody>\n",
       "</table>\n",
       "<p>5 rows × 856 columns</p>\n",
       "</div>"
      ],
      "text/plain": [
       "   Kilometers  No_of_owners      Price  No_of_years  Location_ahmedabad  \\\n",
       "0   15.283497             1  13.272160            1                   0   \n",
       "1   12.062177             1  13.255843            1                   0   \n",
       "2   25.742025             1  12.988372            1                   0   \n",
       "3   17.525677             1  12.583478            7                   0   \n",
       "4   22.210784             1  12.595744            6                   0   \n",
       "\n",
       "   Location_bengaluru  Location_chennai  Location_gurgaon  Location_hyderabad  \\\n",
       "0                   0                 0                 0                   0   \n",
       "1                   0                 0                 0                   0   \n",
       "2                   0                 0                 0                   0   \n",
       "3                   0                 0                 0                   0   \n",
       "4                   0                 0                 0                   0   \n",
       "\n",
       "   Location_kolkata  ...  Variant_zxi opt amt  Variant_zxi plus  \\\n",
       "0                 0  ...                    0                 0   \n",
       "1                 0  ...                    0                 0   \n",
       "2                 0  ...                    0                 0   \n",
       "3                 0  ...                    0                 0   \n",
       "4                 0  ...                    0                 0   \n",
       "\n",
       "   Variant_zxi plus amt  Variant_zxi plus shvs  Fuel_diesel  Fuel_petrol  \\\n",
       "0                     0                      0            0            1   \n",
       "1                     0                      0            0            1   \n",
       "2                     0                      0            0            1   \n",
       "3                     0                      0            0            1   \n",
       "4                     0                      0            0            1   \n",
       "\n",
       "   Fuel_petrol + cng  Fuel_petrol + lpg  Transmission_automatic  \\\n",
       "0                  0                  0                       0   \n",
       "1                  0                  0                       0   \n",
       "2                  0                  0                       0   \n",
       "3                  0                  0                       0   \n",
       "4                  0                  0                       0   \n",
       "\n",
       "   Transmission_manual  \n",
       "0                    1  \n",
       "1                    1  \n",
       "2                    1  \n",
       "3                    1  \n",
       "4                    1  \n",
       "\n",
       "[5 rows x 856 columns]"
      ]
     },
     "execution_count": 116,
     "metadata": {},
     "output_type": "execute_result"
    }
   ],
   "source": [
    "df4 = df3.copy()\n",
    "df4.head()"
   ]
  },
  {
   "cell_type": "markdown",
   "metadata": {},
   "source": [
    "Since, the target variable is a continuous variable this is a regression problem."
   ]
  },
  {
   "cell_type": "code",
   "execution_count": 126,
   "metadata": {},
   "outputs": [],
   "source": [
    "from sklearn.model_selection import train_test_split, GridSearchCV, cross_val_score\n",
    "from sklearn.linear_model import LinearRegression, ElasticNet, Lasso, Ridge, HuberRegressor, BayesianRidge\n",
    "from sklearn.tree import DecisionTreeRegressor\n",
    "from sklearn.ensemble import RandomForestRegressor, AdaBoostRegressor, GradientBoostingRegressor\n",
    "from sklearn.neighbors import KNeighborsRegressor\n",
    "from sklearn.svm import SVR\n",
    "from xgboost import XGBRegressor\n",
    "from sklearn.metrics import mean_absolute_error, mean_squared_error, r2_score"
   ]
  },
  {
   "cell_type": "code",
   "execution_count": 118,
   "metadata": {},
   "outputs": [],
   "source": [
    "x = df4.drop(columns=[\"Price\"])\n",
    "y = df4.Price"
   ]
  },
  {
   "cell_type": "code",
   "execution_count": 119,
   "metadata": {},
   "outputs": [],
   "source": [
    "xtrain,xtest,ytrain,ytest = train_test_split(x,y,test_size=0.3,random_state=55)"
   ]
  },
  {
   "cell_type": "code",
   "execution_count": 120,
   "metadata": {},
   "outputs": [
    {
     "data": {
      "text/plain": [
       "(3531, 855)"
      ]
     },
     "execution_count": 120,
     "metadata": {},
     "output_type": "execute_result"
    }
   ],
   "source": [
    "xtrain.shape"
   ]
  },
  {
   "cell_type": "code",
   "execution_count": 122,
   "metadata": {},
   "outputs": [
    {
     "data": {
      "text/plain": [
       "(1514, 855)"
      ]
     },
     "execution_count": 122,
     "metadata": {},
     "output_type": "execute_result"
    }
   ],
   "source": [
    "xtest.shape"
   ]
  },
  {
   "cell_type": "code",
   "execution_count": 130,
   "metadata": {},
   "outputs": [
    {
     "name": "stdout",
     "output_type": "stream",
     "text": [
      "LinearRegression()\n",
      "mae : 1318526.5520722955\n",
      "mse : 69312595968256.21\n",
      "r2 : -245169634022120.34 \n",
      "\n",
      "DecisionTreeRegressor()\n",
      "mae : 0.0835050531457876\n",
      "mse : 0.024406651782729716\n",
      "r2 : 0.9136698055860201 \n",
      "\n",
      "KNeighborsRegressor()\n",
      "mae : 0.14914278953701948\n",
      "mse : 0.05100965291071567\n",
      "r2 : 0.8195707755421092 \n",
      "\n",
      "SVR()\n",
      "mae : 0.17591196932616465\n",
      "mse : 0.06658322616697258\n",
      "r2 : 0.7644845794140367 \n",
      "\n"
     ]
    }
   ],
   "source": [
    "models = [LinearRegression(),DecisionTreeRegressor(),KNeighborsRegressor(),SVR()]\n",
    "\n",
    "for model in models:\n",
    "    \n",
    "    m = model\n",
    "    m.fit(xtrain,ytrain)\n",
    "    pred = m.predict(xtest)\n",
    "    mae = mean_absolute_error(ytest,pred)\n",
    "    mse = mean_squared_error(ytest,pred)\n",
    "    r2 = r2_score(ytest,pred)\n",
    "    \n",
    "    print(m)\n",
    "    print(\"mae :\", mae)\n",
    "    print(\"mse :\", mse)\n",
    "    print(\"r2 :\",r2 ,\"\\n\")\n",
    "    "
   ]
  },
  {
   "cell_type": "markdown",
   "metadata": {},
   "source": [
    "linear regression is not performing well as it can be seen its mae values are so high. This may be beacuse of two possible reasons:\n",
    "1) Many predictors are categorical (can be seen decision trees doing well)\n",
    "\n",
    "2) Few outliers with high prices for types of luxury sedan and luxury suv"
   ]
  },
  {
   "cell_type": "code",
   "execution_count": 128,
   "metadata": {},
   "outputs": [
    {
     "name": "stdout",
     "output_type": "stream",
     "text": [
      "DecisionTreeRegressor()\n",
      "diff w.r.t r2 score -0.050929113958342764\n",
      "KNeighborsRegressor()\n",
      "diff w.r.t r2 score -0.052463214470458985\n",
      "SVR()\n",
      "diff w.r.t r2 score -0.033939591898988875\n"
     ]
    }
   ],
   "source": [
    "models = [DecisionTreeRegressor(),KNeighborsRegressor(),SVR()]\n",
    "\n",
    "for model in models:\n",
    "    \n",
    "    m = model\n",
    "    m.fit(xtrain,ytrain)\n",
    "    pred = m.predict(xtest)\n",
    "    r2 = r2_score(ytest,pred)\n",
    "    \n",
    "    cvs = cross_val_score(m,x,y,scoring='r2',cv=5)\n",
    "    print(m)\n",
    "    print(\"diff w.r.t r2 score\", (cvs.mean() - r2))"
   ]
  },
  {
   "cell_type": "markdown",
   "metadata": {},
   "source": [
    "These three models are performing well with a difference between r2 score and cross val score or near to 0.05"
   ]
  },
  {
   "cell_type": "markdown",
   "metadata": {},
   "source": [
    "Lets check with few other models"
   ]
  },
  {
   "cell_type": "code",
   "execution_count": 129,
   "metadata": {},
   "outputs": [
    {
     "name": "stdout",
     "output_type": "stream",
     "text": [
      "ElasticNet()\n",
      "mae : 0.4019487721860043\n",
      "mse : 0.25378541192651843\n",
      "r2 : 0.10232078754237439 \n",
      "\n",
      "Lasso()\n",
      "mae : 0.43037663139364196\n",
      "mse : 0.2827424088120287\n",
      "r2 : -0.0001046984696000397 \n",
      "\n",
      "Ridge()\n",
      "mae : 0.08859626635408\n",
      "mse : 0.01829046573528479\n",
      "r2 : 0.9353037247015301 \n",
      "\n"
     ]
    },
    {
     "name": "stderr",
     "output_type": "stream",
     "text": [
      "C:\\Users\\AKHIL\\anaconda3\\lib\\site-packages\\sklearn\\linear_model\\_huber.py:296: ConvergenceWarning: lbfgs failed to converge (status=1):\n",
      "STOP: TOTAL NO. of ITERATIONS REACHED LIMIT.\n",
      "\n",
      "Increase the number of iterations (max_iter) or scale the data as shown in:\n",
      "    https://scikit-learn.org/stable/modules/preprocessing.html\n",
      "  self.n_iter_ = _check_optimize_result(\"lbfgs\", opt_res, self.max_iter)\n"
     ]
    },
    {
     "name": "stdout",
     "output_type": "stream",
     "text": [
      "HuberRegressor()\n",
      "mae : 0.1693207946547118\n",
      "mse : 0.10895468788289119\n",
      "r2 : 0.6146100058714201 \n",
      "\n",
      "BayesianRidge()\n",
      "mae : 0.08643198529045013\n",
      "mse : 0.01854083842406821\n",
      "r2 : 0.934418116831551 \n",
      "\n"
     ]
    }
   ],
   "source": [
    "models = [ElasticNet(), Lasso(), Ridge(), HuberRegressor(), BayesianRidge()]\n",
    "\n",
    "for model in models:\n",
    "    \n",
    "    m = model\n",
    "    m.fit(xtrain,ytrain)\n",
    "    pred = m.predict(xtest)\n",
    "    mae = mean_absolute_error(ytest,pred)\n",
    "    mse = mean_squared_error(ytest,pred)\n",
    "    r2 = r2_score(ytest,pred)\n",
    "    \n",
    "    print(m)\n",
    "    print(\"mae :\", mae)\n",
    "    print(\"mse :\", mse)\n",
    "    print(\"r2 :\",r2 ,\"\\n\")"
   ]
  },
  {
   "cell_type": "markdown",
   "metadata": {},
   "source": [
    "Till Now, Decision Tree, Ridge and Bayesian Ridge have r2_score of above 0.90"
   ]
  },
  {
   "cell_type": "code",
   "execution_count": 131,
   "metadata": {},
   "outputs": [
    {
     "name": "stdout",
     "output_type": "stream",
     "text": [
      "Ridge()\n",
      "diff w.r.t r2 score -0.028986652670342727\n",
      "BayesianRidge()\n",
      "diff w.r.t r2 score -0.02757703257078581\n"
     ]
    }
   ],
   "source": [
    "models = [Ridge(),BayesianRidge()]\n",
    "\n",
    "for model in models:\n",
    "    \n",
    "    m = model\n",
    "    m.fit(xtrain,ytrain)\n",
    "    pred = m.predict(xtest)\n",
    "    r2 = r2_score(ytest,pred)\n",
    "    \n",
    "    cvs = cross_val_score(m,x,y,scoring='r2',cv=5)\n",
    "    print(m)\n",
    "    print(\"diff w.r.t r2 score\", (cvs.mean() - r2))"
   ]
  },
  {
   "cell_type": "markdown",
   "metadata": {},
   "source": [
    "Ridge and Bayesian Ridge shows less diff between r2 score and cross val score compared to decision trees"
   ]
  },
  {
   "cell_type": "code",
   "execution_count": 132,
   "metadata": {},
   "outputs": [
    {
     "name": "stdout",
     "output_type": "stream",
     "text": [
      "RandomForestRegressor()\n",
      "mae : 0.07801284137808161\n",
      "mse : 0.01619767516585129\n",
      "r2 : 0.9427062565332327 \n",
      "\n",
      "AdaBoostRegressor()\n",
      "mae : 0.23320297024734044\n",
      "mse : 0.08550134285827933\n",
      "r2 : 0.6975682032373367 \n",
      "\n",
      "GradientBoostingRegressor()\n",
      "mae : 0.13272628733225472\n",
      "mse : 0.03280826356339335\n",
      "r2 : 0.8839519735428427 \n",
      "\n",
      "XGBRegressor(base_score=0.5, booster='gbtree', colsample_bylevel=1,\n",
      "             colsample_bynode=1, colsample_bytree=1, gamma=0, gpu_id=-1,\n",
      "             importance_type='gain', interaction_constraints='',\n",
      "             learning_rate=0.300000012, max_delta_step=0, max_depth=6,\n",
      "             min_child_weight=1, missing=nan, monotone_constraints='()',\n",
      "             n_estimators=100, n_jobs=8, num_parallel_tree=1, random_state=0,\n",
      "             reg_alpha=0, reg_lambda=1, scale_pos_weight=1, subsample=1,\n",
      "             tree_method='exact', validate_parameters=1, verbosity=None)\n",
      "mae : 0.0841586618023667\n",
      "mse : 0.016365710856674275\n",
      "r2 : 0.9421118876707449 \n",
      "\n"
     ]
    }
   ],
   "source": [
    "boosting = [RandomForestRegressor(), AdaBoostRegressor(), GradientBoostingRegressor() ,XGBRegressor()]\n",
    "for model in boosting:\n",
    "    \n",
    "    m = model\n",
    "    m.fit(xtrain,ytrain)\n",
    "    pred = m.predict(xtest)\n",
    "    mae = mean_absolute_error(ytest,pred)\n",
    "    mse = mean_squared_error(ytest,pred)\n",
    "    r2 = r2_score(ytest,pred)\n",
    "    \n",
    "    print(m)\n",
    "    print(\"mae :\", mae)\n",
    "    print(\"mse :\", mse)\n",
    "    print(\"r2 :\",r2 ,\"\\n\")"
   ]
  },
  {
   "cell_type": "markdown",
   "metadata": {},
   "source": [
    "Random forest and XGB boosting techniques are doing good"
   ]
  },
  {
   "cell_type": "code",
   "execution_count": 137,
   "metadata": {},
   "outputs": [
    {
     "name": "stdout",
     "output_type": "stream",
     "text": [
      "RandomForestRegressor()\n",
      "diff w.r.t r2 score -0.03658268921526786\n",
      "XGBRegressor(base_score=0.5, booster='gbtree', colsample_bylevel=1,\n",
      "             colsample_bynode=1, colsample_bytree=1, gamma=0, gpu_id=-1,\n",
      "             importance_type='gain', interaction_constraints='',\n",
      "             learning_rate=0.300000012, max_delta_step=0, max_depth=6,\n",
      "             min_child_weight=1, missing=nan, monotone_constraints='()',\n",
      "             n_estimators=100, n_jobs=8, num_parallel_tree=1, random_state=0,\n",
      "             reg_alpha=0, reg_lambda=1, scale_pos_weight=1, subsample=1,\n",
      "             tree_method='exact', validate_parameters=1, verbosity=None)\n",
      "diff w.r.t r2 score -0.03467411303877943\n"
     ]
    }
   ],
   "source": [
    "for model in (boosting[0],boosting[-1]):\n",
    "    \n",
    "    m = model\n",
    "    m.fit(xtrain,ytrain)\n",
    "    pred = m.predict(xtest)\n",
    "    r2 = r2_score(ytest,pred)\n",
    "    \n",
    "    cvs = cross_val_score(m,x,y,scoring='r2',cv=5)\n",
    "    print(m)\n",
    "    print(\"diff w.r.t r2 score\", (cvs.mean() - r2))"
   ]
  },
  {
   "cell_type": "markdown",
   "metadata": {},
   "source": [
    "# in order ranking 1 - 4\n",
    "\n",
    "considering r2_score - random forest, xgb regressor, Ridge, Bayesian Ridge (all > 0.93)\n",
    "\n",
    "considering diff b/w cvs and r2 - Bayesian Ridge, Ridge, xgb regressor, random forest (all < 0.04)\n",
    "\n",
    "considering mae - Random forest, XGB,  Bayesian Ridge, Ridge\n",
    "\n",
    "cosidering mse - Random forest, XGB, Ridge, Bayesian Ridge\n",
    "\n",
    "All the models performances are near to each others. Since, in most of the scenarios random forest is ranked 1, we will tune parameters for it and check its performance."
   ]
  },
  {
   "cell_type": "code",
   "execution_count": 140,
   "metadata": {},
   "outputs": [
    {
     "data": {
      "text/plain": [
       "{'max_depth': 15,\n",
       " 'max_features': 'auto',\n",
       " 'min_samples_split': 2,\n",
       " 'n_estimators': 1000}"
      ]
     },
     "execution_count": 140,
     "metadata": {},
     "output_type": "execute_result"
    }
   ],
   "source": [
    "params  = {'n_estimators' : [300, 500, 700, 1000, 2100],\n",
    "            'max_depth' : [3, 5, 7, 9, 11, 13, 15],\n",
    "            'max_features' : [\"auto\", \"sqrt\", \"log2\"],\n",
    "            'min_samples_split' : [2, 4, 6, 8]}\n",
    "\n",
    "\n",
    "gcv = GridSearchCV(RandomForestRegressor(),param_grid = params, scoring ='r2', cv=5)\n",
    "\n",
    "gcv.fit(x,y)\n",
    "\n",
    "gcv.best_params_"
   ]
  },
  {
   "cell_type": "code",
   "execution_count": 141,
   "metadata": {},
   "outputs": [
    {
     "data": {
      "text/plain": [
       "RandomForestRegressor(max_depth=15, n_estimators=1000)"
      ]
     },
     "execution_count": 141,
     "metadata": {},
     "output_type": "execute_result"
    }
   ],
   "source": [
    "final_model = RandomForestRegressor(n_estimators = 1000, max_depth = 15, max_features = 'auto', min_samples_split = 2)\n",
    "\n",
    "final_model.fit(x,y)"
   ]
  },
  {
   "cell_type": "code",
   "execution_count": 142,
   "metadata": {},
   "outputs": [
    {
     "data": {
      "text/plain": [
       "0.983695692640654"
      ]
     },
     "execution_count": 142,
     "metadata": {},
     "output_type": "execute_result"
    }
   ],
   "source": [
    "final_model.score(x,y)"
   ]
  },
  {
   "cell_type": "code",
   "execution_count": 145,
   "metadata": {},
   "outputs": [],
   "source": [
    "import pickle\n",
    "filename = \"cars_price_prediction.pkl\"\n",
    "\n",
    "pickle.dump(final_model,open(filename , \"wb\"))"
   ]
  },
  {
   "cell_type": "code",
   "execution_count": null,
   "metadata": {},
   "outputs": [],
   "source": []
  }
 ],
 "metadata": {
  "kernelspec": {
   "display_name": "Python 3",
   "language": "python",
   "name": "python3"
  },
  "language_info": {
   "codemirror_mode": {
    "name": "ipython",
    "version": 3
   },
   "file_extension": ".py",
   "mimetype": "text/x-python",
   "name": "python",
   "nbconvert_exporter": "python",
   "pygments_lexer": "ipython3",
   "version": "3.8.5"
  }
 },
 "nbformat": 4,
 "nbformat_minor": 4
}
